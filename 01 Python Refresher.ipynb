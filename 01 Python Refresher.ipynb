{
 "cells": [
  {
   "cell_type": "markdown",
   "metadata": {},
   "source": [
    "# Python Refresher\n",
    "\n",
    "In this notebook, I would like to show you the top 5 things you will need to know in order for you to gain maximum benefit from this workshop."
   ]
  },
  {
   "cell_type": "markdown",
   "metadata": {},
   "source": [
    "## 0. Python is Zero-Indexed"
   ]
  },
  {
   "cell_type": "code",
   "execution_count": null,
   "metadata": {
    "collapsed": false
   },
   "outputs": [],
   "source": [
    "# If you have a list of numbers:\n",
    "my_list = [1, 5, 2, 3, 9]\n",
    "\n",
    "# What is the index of the number \"3\"?\n",
    "x = 1  # change this line\n",
    "my_list[x]"
   ]
  },
  {
   "cell_type": "markdown",
   "metadata": {},
   "source": [
    "## 1. Namespaces are a cool thing."
   ]
  },
  {
   "cell_type": "code",
   "execution_count": null,
   "metadata": {
    "collapsed": false
   },
   "outputs": [],
   "source": [
    "# e.g. How do I use the numpy trigonometric functions?\n",
    "\n",
    "import numpy as np  # you can abbreviate a package import name in order to not use \n",
    "\n",
    "np.tan(3)  # change this function call to get the cosine of 3. Also, does \"numpy.tan(3)\" work?"
   ]
  },
  {
   "cell_type": "markdown",
   "metadata": {},
   "source": [
    "## 2. Python \"classes\" are objects that have methods."
   ]
  },
  {
   "cell_type": "code",
   "execution_count": null,
   "metadata": {
    "collapsed": false
   },
   "outputs": [],
   "source": [
    "from datetime import datetime\n",
    "\n",
    "class Watch(object):\n",
    "    def __init__(self):\n",
    "        self.stopwatch_timer = 0\n",
    "\n",
    "    def current_time(self):\n",
    "        return str(datetime.now())\n",
    "\n",
    "w = Watch()\n",
    "# Write the funciton call that tells the current time on the watch."
   ]
  },
  {
   "cell_type": "markdown",
   "metadata": {},
   "source": [
    "## 3. Numbers can be represented numerically or as strings"
   ]
  },
  {
   "cell_type": "code",
   "execution_count": null,
   "metadata": {
    "collapsed": false,
    "scrolled": true
   },
   "outputs": [],
   "source": [
    "x = (3 == '3')  # change this line to make x evaluate to True\n",
    "x"
   ]
  },
  {
   "cell_type": "markdown",
   "metadata": {},
   "source": [
    "## 4. Dictionaries are really useful"
   ]
  },
  {
   "cell_type": "code",
   "execution_count": null,
   "metadata": {
    "collapsed": false
   },
   "outputs": [],
   "source": [
    "from datetime import datetime  # usually, I would opt to place all the import statements at the top.\n",
    "\n",
    "useful_info = dict()\n",
    "\n",
    "# Add the key-value pairs to the useful_info dictionary:\n",
    "# - 'instructor_name':'Eric Ma'\n",
    "# - 'date_today':datetime.today()"
   ]
  },
  {
   "cell_type": "markdown",
   "metadata": {
    "collapsed": true
   },
   "source": [
    "## 5. Write functions to encapsulate code for reuse."
   ]
  },
  {
   "cell_type": "code",
   "execution_count": null,
   "metadata": {
    "collapsed": true
   },
   "outputs": [],
   "source": [
    "# Write a function that gives the sum of all numbers up to a passed in number.\n",
    "# Hint: a for-loop is the easiest implementation.\n",
    "# Hint: if you're feeling fancy, go ahead and use numpy.\n",
    "\n",
    "def sum_up_to(x):\n",
    "    \"\"\"\n",
    "    Sums up all of the numbers from 1 to x.\n",
    "    \"\"\"\n",
    "    ###\n",
    "    pass\n",
    "    ###\n",
    "\n",
    "# Then, write another function that uses that function to compute the sums for every even digit up to a number y.\n",
    "\n",
    "def sums_for_even_digits(y):\n",
    "    \"\"\"\n",
    "    Computes the sum_up_to(x) for every even number up to y.\n",
    "    \n",
    "    If y is even, y is included.\n",
    "    \n",
    "    If y is odd, y is not included.\n",
    "    \"\"\"\n",
    "    ### Write your code below.\n",
    "    pass\n",
    "    ### "
   ]
  },
  {
   "cell_type": "code",
   "execution_count": null,
   "metadata": {
    "collapsed": true
   },
   "outputs": [],
   "source": []
  }
 ],
 "metadata": {
  "kernelspec": {
   "display_name": "Python 3",
   "language": "python",
   "name": "python3"
  },
  "language_info": {
   "codemirror_mode": {
    "name": "ipython",
    "version": 3
   },
   "file_extension": ".py",
   "mimetype": "text/x-python",
   "name": "python",
   "nbconvert_exporter": "python",
   "pygments_lexer": "ipython3",
   "version": "3.4.4"
  }
 },
 "nbformat": 4,
 "nbformat_minor": 0
}
