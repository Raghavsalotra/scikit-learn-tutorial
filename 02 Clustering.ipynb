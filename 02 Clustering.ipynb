{
 "cells": [
  {
   "cell_type": "code",
   "execution_count": null,
   "metadata": {
    "collapsed": false
   },
   "outputs": [],
   "source": [
    "%load_ext autoreload\n",
    "%autoreload 2\n",
    "%matplotlib inline"
   ]
  },
  {
   "cell_type": "code",
   "execution_count": null,
   "metadata": {
    "collapsed": false
   },
   "outputs": [],
   "source": [
    "from Bio import SeqIO\n",
    "from sklearn.cluster import AffinityPropagation, KMeans, DBSCAN\n",
    "from sklearn.manifold import MDS, t_sne, Isomap\n",
    "from sklearn.metrics import silhouette_score\n",
    "from util.isoelectric_point import isoelectric_points\n",
    "\n",
    "import numpy as np\n",
    "import matplotlib.pyplot as plt\n",
    "import pandas as pd"
   ]
  },
  {
   "cell_type": "markdown",
   "metadata": {},
   "source": [
    "# Learning Outcomes\n",
    "\n",
    "By the end of this notebook, you will learn that:\n",
    "\n",
    "1. Your data have to be structured as a **2D numerical matrix**.\n",
    "2. Clustering is easily done by using the **`model.fit(X)`** and **`model.predict(X)`** coding pattern.\n",
    "3. Different algorithms perform differently (accuracy, speed).\n",
    "4. It is possible to evaluate clustering performance by using the **silhouette score**."
   ]
  },
  {
   "cell_type": "markdown",
   "metadata": {},
   "source": [
    "# Problem\n",
    "\n",
    "If I'm given a list of samples, how do I figure out what samples are similar to one another?\n",
    "\n",
    "Here, we will explore this problem by using biological sequence data.\n",
    "\n",
    "The data here are 1000 influenza H1 sequences. Let's see if we can find any interesting structure in this dataset.\n",
    "\n",
    "**Please uncomment the code the following 3 cells, and run them.**"
   ]
  },
  {
   "cell_type": "code",
   "execution_count": null,
   "metadata": {
    "collapsed": false
   },
   "outputs": [],
   "source": [
    "# Load the sequence data into memory. \n",
    "# BioPython is a great Python package for reading and manipulating biological sequence data.\n",
    "# Remember, though, that the data have to ultimately become a 2D matrix.\n",
    "# sequences = [s for s in SeqIO.parse('data/human_h1_aligned_downsampled.fasta', 'fasta')]\n",
    "# sequences[0:5]"
   ]
  },
  {
   "cell_type": "code",
   "execution_count": null,
   "metadata": {
    "collapsed": false
   },
   "outputs": [],
   "source": [
    "# Get a list of the sequence identifiers. \n",
    "seqids = [s.id for s in SeqIO.parse('data/human_h1_aligned_downsampled.fasta', 'fasta')]\n",
    "seqids[0:5]"
   ]
  },
  {
   "cell_type": "markdown",
   "metadata": {},
   "source": [
    "An important part of using machine learning algorithms is that your data have to be numeric. Strings and special values (`inf` or `NaN`) are not allowed in many of them.\n",
    "\n",
    "With the sequence data, what could we replace the letters with?"
   ]
  },
  {
   "cell_type": "code",
   "execution_count": null,
   "metadata": {
    "collapsed": false,
    "scrolled": false
   },
   "outputs": [],
   "source": [
    "# Make the data into a pandas dataframe, which is an acceptable data input for scikit-learn.\n",
    "# seq_df = pd.DataFrame(sequences)\n",
    "# seq_df.index = seqids\n",
    "# seq_df = seq_df.replace(isoelectric_points.keys(), isoelectric_points.values()).replace('-', 0)\n",
    "# seq_df.head()"
   ]
  },
  {
   "cell_type": "markdown",
   "metadata": {},
   "source": [
    "## Coding Pattern\n",
    "\n",
    "The coding pattern as implemented by the scikit-learn API is as follows:\n",
    "\n",
    "    model = YourModelHere()\n",
    "    model.fit(X1)\n",
    "    model.predict(X2)"
   ]
  },
  {
   "cell_type": "code",
   "execution_count": null,
   "metadata": {
    "collapsed": false
   },
   "outputs": [],
   "source": [
    "# Let's try \n",
    "ap = AffinityPropagation()\n",
    "ap.fit(seq_df)  # trains the clustering algorithm on the seq_df.\n",
    "ap_cluster_labels = ap.predict(seq_df)\n",
    "ap_cluster_labels[0:5]"
   ]
  },
  {
   "cell_type": "markdown",
   "metadata": {},
   "source": [
    "## Visualizing the clustering pattern"
   ]
  },
  {
   "cell_type": "code",
   "execution_count": null,
   "metadata": {
    "collapsed": false
   },
   "outputs": [],
   "source": [
    "# Use multi-dimensional scaling (MDS) to get a 2-D plane representation of the data, so that we can plot it.\n",
    "mds = MDS()\n",
    "mds_coords = mds.fit_transform(seq_df)\n",
    "mds_coords"
   ]
  },
  {
   "cell_type": "code",
   "execution_count": null,
   "metadata": {
    "collapsed": false
   },
   "outputs": [],
   "source": [
    "# Let's plot this using matplotlib\n",
    "plt.scatter(mds_coords[:,0], mds_coords[:,1])"
   ]
  },
  {
   "cell_type": "code",
   "execution_count": null,
   "metadata": {
    "collapsed": false
   },
   "outputs": [],
   "source": [
    "# Colour the clusters by cluster number, then plot on MDS plot.\n",
    "cmap = plt.cm.get_cmap('gnuplot2', len(ap_cluster_labels))\n",
    "\n",
    "plt.scatter(mds_coords[:,0], mds_coords[:,1], c=ap_cluster_labels, cmap=cmap)"
   ]
  },
  {
   "cell_type": "markdown",
   "metadata": {},
   "source": [
    "# Evaluating clustering results\n",
    "\n",
    "One metric for evaluating clustering results, which is provided by the `scikit-learn` API, is the [`silhouette_score`][1].\n",
    "\n",
    "The definition of the `silhouette_score` is $ \\dfrac{b - a}{max(a, b)} $. The score can take on values between -1 and 1, with -1 being the worst, and +1 being the best scores. 0 indicates overlapping clusters. \n",
    "\n",
    "From the `scikit-learn` API documentation:\n",
    "\n",
    "> The Silhouette Coefficient is calculated using the mean intra-cluster distance **`a`** and the mean nearest-cluster distance **`b`** for each sample. The Silhouette Coefficient for a sample is `(b - a) / max(a, b)`. To clarify, `b` is the distance between a sample and the nearest cluster that the sample is not a part of. Note that Silhouette Coefficent is only defined if number of labels is 2 <= n_labels <= n_samples - 1.\n",
    "\n",
    "\n",
    "Chalkboard example: three blobs\n",
    "\n",
    "[1]: http://scikit-learn.org/stable/modules/generated/sklearn.metrics.silhouette_score.html"
   ]
  },
  {
   "cell_type": "code",
   "execution_count": null,
   "metadata": {
    "collapsed": false
   },
   "outputs": [],
   "source": [
    "silhouette_score(seq_df, ap_cluster_labels)"
   ]
  },
  {
   "cell_type": "markdown",
   "metadata": {},
   "source": [
    "# Exercises (10 min)\n",
    "\n",
    "Use K-means to cluster the data. See if you can colour the 2 clusters in an MDS plot."
   ]
  },
  {
   "cell_type": "code",
   "execution_count": null,
   "metadata": {
    "collapsed": false
   },
   "outputs": [],
   "source": [
    "km = KMeans(n_clusters=2)\n",
    "km_cluster_labels = km.fit_predict(seq_df)\n",
    "km_cluster_labels[0:5]"
   ]
  },
  {
   "cell_type": "code",
   "execution_count": null,
   "metadata": {
    "collapsed": false
   },
   "outputs": [],
   "source": [
    "cmap = plt.cm.get_cmap('gnuplot2', len(km_cluster_labels))\n",
    "\n",
    "plt.scatter(mds_coords[:,0], mds_coords[:,1], c=km_cluster_labels, cmap=cmap)"
   ]
  },
  {
   "cell_type": "code",
   "execution_count": null,
   "metadata": {
    "collapsed": false
   },
   "outputs": [],
   "source": [
    "silhouette_score(seq_df, km_cluster_labels)"
   ]
  },
  {
   "cell_type": "markdown",
   "metadata": {},
   "source": [
    "For comparison, try the DBSCAN algorithm, and do the same thing."
   ]
  },
  {
   "cell_type": "code",
   "execution_count": null,
   "metadata": {
    "collapsed": false,
    "scrolled": true
   },
   "outputs": [],
   "source": [
    "dbs = DBSCAN()\n",
    "dbs_cluster_labels = dbs.fit_predict(seq_df)\n",
    "dbs_cluster_labels[0:5]"
   ]
  },
  {
   "cell_type": "code",
   "execution_count": null,
   "metadata": {
    "collapsed": false
   },
   "outputs": [],
   "source": [
    "cmap = plt.cm.get_cmap('gnuplot2', len(dbs_cluster_labels))\n",
    "\n",
    "plt.scatter(mds_coords[:,0], mds_coords[:,1], c=dbs_cluster_labels, cmap=cmap)"
   ]
  },
  {
   "cell_type": "code",
   "execution_count": null,
   "metadata": {
    "collapsed": false
   },
   "outputs": [],
   "source": [
    "# What are the silhouette scores for each of the 3 algorithms?\n",
    "silhouette_score(seq_df, dbs_cluster_labels)"
   ]
  },
  {
   "cell_type": "markdown",
   "metadata": {},
   "source": [
    "Try one other clustering algorithm, listed [here][1], and evaluate its performance.\n",
    "\n",
    "[1]: http://scikit-learn.org/stable/modules/clustering.html"
   ]
  },
  {
   "cell_type": "code",
   "execution_count": null,
   "metadata": {
    "collapsed": true
   },
   "outputs": [],
   "source": []
  },
  {
   "cell_type": "markdown",
   "metadata": {},
   "source": [
    "## Discussion\n",
    "\n",
    "What clustering algorithms did you all try? What were their accuracy scores?"
   ]
  },
  {
   "cell_type": "markdown",
   "metadata": {},
   "source": [
    "# Takeaways\n",
    "\n",
    "1. Clustering: It's all about figuring out what samples are similar to one another.\n",
    "    * `clusterer.fit_predict(data)`\n",
    "1. Manifold Learning: It's all about finding a low-dimensional representation of high-dimensional data.\n",
    "    * `manifold.fit_transform(data)`\n",
    "1. Evaluation: Check how good the clustering is by using metrics available in the `sklearn.metrics` module."
   ]
  },
  {
   "cell_type": "code",
   "execution_count": null,
   "metadata": {
    "collapsed": true
   },
   "outputs": [],
   "source": []
  }
 ],
 "metadata": {
  "kernelspec": {
   "display_name": "Python 3",
   "language": "python",
   "name": "python3"
  },
  "language_info": {
   "codemirror_mode": {
    "name": "ipython",
    "version": 3
   },
   "file_extension": ".py",
   "mimetype": "text/x-python",
   "name": "python",
   "nbconvert_exporter": "python",
   "pygments_lexer": "ipython3",
   "version": "3.4.4"
  }
 },
 "nbformat": 4,
 "nbformat_minor": 0
}
