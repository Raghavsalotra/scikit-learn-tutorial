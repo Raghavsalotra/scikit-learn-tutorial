{
 "cells": [
  {
   "cell_type": "code",
   "execution_count": 6,
   "metadata": {
    "collapsed": false
   },
   "outputs": [
    {
     "name": "stdout",
     "output_type": "stream",
     "text": [
      "The autoreload extension is already loaded. To reload it, use:\n",
      "  %reload_ext autoreload\n"
     ]
    }
   ],
   "source": [
    "%load_ext autoreload\n",
    "%autoreload 2\n",
    "%matplotlib inline"
   ]
  },
  {
   "cell_type": "code",
   "execution_count": 24,
   "metadata": {
    "collapsed": false
   },
   "outputs": [],
   "source": [
    "from Bio import SeqIO\n",
    "from Bio.Align import MultipleSeqAlignment\n",
    "from collections import Counter\n",
    "from sklearn.cross_validation import train_test_split, ShuffleSplit\n",
    "from sklearn.ensemble import RandomForestClassifier\n",
    "from sklearn.tree import DecisionTreeClassifier\n",
    "from sklearn.metrics import auc, roc_auc_score, accuracy_score, roc_curve\n",
    "from sklearn.preprocessing import LabelBinarizer\n",
    "from util.isoelectric_point import isoelectric_points\n",
    "\n",
    "import numpy as np\n",
    "import pandas as pd\n",
    "import matplotlib.pyplot as plt\n",
    "import seaborn as sns\n",
    "\n",
    "sns.set_context('notebook')\n",
    "sns.set_style('white')"
   ]
  },
  {
   "cell_type": "markdown",
   "metadata": {},
   "source": [
    "# Problem Statement\n",
    "\n",
    "There are influenza viruses that are collected from the \"environment\", or have an \"unknown\" host. How do we infer which hosts it came from? Well, that sounds like a **Classification** problem. "
   ]
  },
  {
   "cell_type": "code",
   "execution_count": 8,
   "metadata": {
    "collapsed": false
   },
   "outputs": [
    {
     "data": {
      "text/plain": [
       "31648"
      ]
     },
     "execution_count": 8,
     "metadata": {},
     "output_type": "execute_result"
    }
   ],
   "source": [
    "# Load the sequences into memory\n",
    "sequences = [s for s in SeqIO.parse('data/20160127_HA_prediction.fasta', 'fasta') if len(s.seq) == 566]  # we are cheating and not bothering with an alignment.\n",
    "len(sequences)"
   ]
  },
  {
   "cell_type": "code",
   "execution_count": 9,
   "metadata": {
    "collapsed": false
   },
   "outputs": [
    {
     "data": {
      "text/plain": [
       "31648"
      ]
     },
     "execution_count": 9,
     "metadata": {},
     "output_type": "execute_result"
    }
   ],
   "source": [
    "# Load the sequence IDs into memory\n",
    "seqids = [s.id for s in SeqIO.parse('data/20160127_HA_prediction.fasta', 'fasta') if len(s.seq) == 566]\n",
    "len(seqids)"
   ]
  },
  {
   "cell_type": "code",
   "execution_count": 10,
   "metadata": {
    "collapsed": false,
    "scrolled": false
   },
   "outputs": [
    {
     "data": {
      "text/html": [
       "<div>\n",
       "<table border=\"1\" class=\"dataframe\">\n",
       "  <thead>\n",
       "    <tr style=\"text-align: right;\">\n",
       "      <th></th>\n",
       "      <th>0</th>\n",
       "      <th>1</th>\n",
       "      <th>2</th>\n",
       "      <th>3</th>\n",
       "      <th>4</th>\n",
       "      <th>5</th>\n",
       "      <th>6</th>\n",
       "      <th>7</th>\n",
       "      <th>8</th>\n",
       "      <th>9</th>\n",
       "      <th>...</th>\n",
       "      <th>556</th>\n",
       "      <th>557</th>\n",
       "      <th>558</th>\n",
       "      <th>559</th>\n",
       "      <th>560</th>\n",
       "      <th>561</th>\n",
       "      <th>562</th>\n",
       "      <th>563</th>\n",
       "      <th>564</th>\n",
       "      <th>565</th>\n",
       "    </tr>\n",
       "  </thead>\n",
       "  <tbody>\n",
       "    <tr>\n",
       "      <th>0</th>\n",
       "      <td>M</td>\n",
       "      <td>K</td>\n",
       "      <td>A</td>\n",
       "      <td>R</td>\n",
       "      <td>L</td>\n",
       "      <td>L</td>\n",
       "      <td>V</td>\n",
       "      <td>L</td>\n",
       "      <td>L</td>\n",
       "      <td>C</td>\n",
       "      <td>...</td>\n",
       "      <td>N</td>\n",
       "      <td>G</td>\n",
       "      <td>S</td>\n",
       "      <td>L</td>\n",
       "      <td>Q</td>\n",
       "      <td>C</td>\n",
       "      <td>R</td>\n",
       "      <td>I</td>\n",
       "      <td>C</td>\n",
       "      <td>I</td>\n",
       "    </tr>\n",
       "    <tr>\n",
       "      <th>1</th>\n",
       "      <td>M</td>\n",
       "      <td>K</td>\n",
       "      <td>A</td>\n",
       "      <td>R</td>\n",
       "      <td>L</td>\n",
       "      <td>L</td>\n",
       "      <td>V</td>\n",
       "      <td>L</td>\n",
       "      <td>L</td>\n",
       "      <td>C</td>\n",
       "      <td>...</td>\n",
       "      <td>N</td>\n",
       "      <td>G</td>\n",
       "      <td>S</td>\n",
       "      <td>L</td>\n",
       "      <td>Q</td>\n",
       "      <td>C</td>\n",
       "      <td>R</td>\n",
       "      <td>I</td>\n",
       "      <td>C</td>\n",
       "      <td>I</td>\n",
       "    </tr>\n",
       "    <tr>\n",
       "      <th>2</th>\n",
       "      <td>M</td>\n",
       "      <td>K</td>\n",
       "      <td>A</td>\n",
       "      <td>I</td>\n",
       "      <td>L</td>\n",
       "      <td>V</td>\n",
       "      <td>V</td>\n",
       "      <td>L</td>\n",
       "      <td>L</td>\n",
       "      <td>Y</td>\n",
       "      <td>...</td>\n",
       "      <td>N</td>\n",
       "      <td>G</td>\n",
       "      <td>S</td>\n",
       "      <td>L</td>\n",
       "      <td>Q</td>\n",
       "      <td>C</td>\n",
       "      <td>R</td>\n",
       "      <td>I</td>\n",
       "      <td>C</td>\n",
       "      <td>I</td>\n",
       "    </tr>\n",
       "    <tr>\n",
       "      <th>3</th>\n",
       "      <td>M</td>\n",
       "      <td>K</td>\n",
       "      <td>A</td>\n",
       "      <td>I</td>\n",
       "      <td>L</td>\n",
       "      <td>V</td>\n",
       "      <td>V</td>\n",
       "      <td>L</td>\n",
       "      <td>L</td>\n",
       "      <td>Y</td>\n",
       "      <td>...</td>\n",
       "      <td>N</td>\n",
       "      <td>G</td>\n",
       "      <td>S</td>\n",
       "      <td>L</td>\n",
       "      <td>Q</td>\n",
       "      <td>C</td>\n",
       "      <td>R</td>\n",
       "      <td>I</td>\n",
       "      <td>C</td>\n",
       "      <td>I</td>\n",
       "    </tr>\n",
       "    <tr>\n",
       "      <th>4</th>\n",
       "      <td>M</td>\n",
       "      <td>K</td>\n",
       "      <td>A</td>\n",
       "      <td>I</td>\n",
       "      <td>L</td>\n",
       "      <td>V</td>\n",
       "      <td>V</td>\n",
       "      <td>L</td>\n",
       "      <td>L</td>\n",
       "      <td>Y</td>\n",
       "      <td>...</td>\n",
       "      <td>N</td>\n",
       "      <td>G</td>\n",
       "      <td>S</td>\n",
       "      <td>L</td>\n",
       "      <td>Q</td>\n",
       "      <td>C</td>\n",
       "      <td>R</td>\n",
       "      <td>I</td>\n",
       "      <td>C</td>\n",
       "      <td>I</td>\n",
       "    </tr>\n",
       "  </tbody>\n",
       "</table>\n",
       "<p>5 rows × 566 columns</p>\n",
       "</div>"
      ],
      "text/plain": [
       "  0   1   2   3   4   5   6   7   8   9   ... 556 557 558 559 560 561 562 563  \\\n",
       "0   M   K   A   R   L   L   V   L   L   C ...   N   G   S   L   Q   C   R   I   \n",
       "1   M   K   A   R   L   L   V   L   L   C ...   N   G   S   L   Q   C   R   I   \n",
       "2   M   K   A   I   L   V   V   L   L   Y ...   N   G   S   L   Q   C   R   I   \n",
       "3   M   K   A   I   L   V   V   L   L   Y ...   N   G   S   L   Q   C   R   I   \n",
       "4   M   K   A   I   L   V   V   L   L   Y ...   N   G   S   L   Q   C   R   I   \n",
       "\n",
       "  564 565  \n",
       "0   C   I  \n",
       "1   C   I  \n",
       "2   C   I  \n",
       "3   C   I  \n",
       "4   C   I  \n",
       "\n",
       "[5 rows x 566 columns]"
      ]
     },
     "execution_count": 10,
     "metadata": {},
     "output_type": "execute_result"
    }
   ],
   "source": [
    "# Cast the sequences as a MultipleSeqAlignment object, and then turn that into a pandas DataFrame. \n",
    "# Note: this cell takes a while.\n",
    "seq_aln = MultipleSeqAlignment(sequences)\n",
    "seq_df = pd.DataFrame(np.array(seq_aln))\n",
    "seq_df.head()"
   ]
  },
  {
   "cell_type": "code",
   "execution_count": 11,
   "metadata": {
    "collapsed": false
   },
   "outputs": [
    {
     "data": {
      "text/html": [
       "<div>\n",
       "<table border=\"1\" class=\"dataframe\">\n",
       "  <thead>\n",
       "    <tr style=\"text-align: right;\">\n",
       "      <th></th>\n",
       "      <th>0</th>\n",
       "      <th>1</th>\n",
       "      <th>2</th>\n",
       "      <th>3</th>\n",
       "      <th>4</th>\n",
       "      <th>5</th>\n",
       "      <th>6</th>\n",
       "      <th>7</th>\n",
       "      <th>8</th>\n",
       "      <th>9</th>\n",
       "      <th>...</th>\n",
       "      <th>556</th>\n",
       "      <th>557</th>\n",
       "      <th>558</th>\n",
       "      <th>559</th>\n",
       "      <th>560</th>\n",
       "      <th>561</th>\n",
       "      <th>562</th>\n",
       "      <th>563</th>\n",
       "      <th>564</th>\n",
       "      <th>565</th>\n",
       "    </tr>\n",
       "  </thead>\n",
       "  <tbody>\n",
       "    <tr>\n",
       "      <th>CY021709</th>\n",
       "      <td>5.74</td>\n",
       "      <td>9.74</td>\n",
       "      <td>6.11</td>\n",
       "      <td>10.76</td>\n",
       "      <td>6.04</td>\n",
       "      <td>6.04</td>\n",
       "      <td>6.02</td>\n",
       "      <td>6.04</td>\n",
       "      <td>6.04</td>\n",
       "      <td>5.02</td>\n",
       "      <td>...</td>\n",
       "      <td>10.76</td>\n",
       "      <td>6.06</td>\n",
       "      <td>5.68</td>\n",
       "      <td>6.04</td>\n",
       "      <td>5.65</td>\n",
       "      <td>5.02</td>\n",
       "      <td>10.76</td>\n",
       "      <td>6.04</td>\n",
       "      <td>5.02</td>\n",
       "      <td>6.04</td>\n",
       "    </tr>\n",
       "    <tr>\n",
       "      <th>CY020285</th>\n",
       "      <td>5.74</td>\n",
       "      <td>9.74</td>\n",
       "      <td>6.11</td>\n",
       "      <td>10.76</td>\n",
       "      <td>6.04</td>\n",
       "      <td>6.04</td>\n",
       "      <td>6.02</td>\n",
       "      <td>6.04</td>\n",
       "      <td>6.04</td>\n",
       "      <td>5.02</td>\n",
       "      <td>...</td>\n",
       "      <td>10.76</td>\n",
       "      <td>6.06</td>\n",
       "      <td>5.68</td>\n",
       "      <td>6.04</td>\n",
       "      <td>5.65</td>\n",
       "      <td>5.02</td>\n",
       "      <td>10.76</td>\n",
       "      <td>6.04</td>\n",
       "      <td>5.02</td>\n",
       "      <td>6.04</td>\n",
       "    </tr>\n",
       "    <tr>\n",
       "      <th>CY083910</th>\n",
       "      <td>5.74</td>\n",
       "      <td>9.74</td>\n",
       "      <td>6.11</td>\n",
       "      <td>6.04</td>\n",
       "      <td>6.04</td>\n",
       "      <td>6.02</td>\n",
       "      <td>6.02</td>\n",
       "      <td>6.04</td>\n",
       "      <td>6.04</td>\n",
       "      <td>5.63</td>\n",
       "      <td>...</td>\n",
       "      <td>10.76</td>\n",
       "      <td>6.06</td>\n",
       "      <td>5.68</td>\n",
       "      <td>6.04</td>\n",
       "      <td>5.65</td>\n",
       "      <td>5.02</td>\n",
       "      <td>10.76</td>\n",
       "      <td>6.04</td>\n",
       "      <td>5.02</td>\n",
       "      <td>6.04</td>\n",
       "    </tr>\n",
       "    <tr>\n",
       "      <th>CY063606</th>\n",
       "      <td>5.74</td>\n",
       "      <td>9.74</td>\n",
       "      <td>6.11</td>\n",
       "      <td>6.04</td>\n",
       "      <td>6.04</td>\n",
       "      <td>6.02</td>\n",
       "      <td>6.02</td>\n",
       "      <td>6.04</td>\n",
       "      <td>6.04</td>\n",
       "      <td>5.63</td>\n",
       "      <td>...</td>\n",
       "      <td>10.76</td>\n",
       "      <td>6.06</td>\n",
       "      <td>5.68</td>\n",
       "      <td>6.04</td>\n",
       "      <td>5.65</td>\n",
       "      <td>5.02</td>\n",
       "      <td>10.76</td>\n",
       "      <td>6.04</td>\n",
       "      <td>5.02</td>\n",
       "      <td>6.04</td>\n",
       "    </tr>\n",
       "    <tr>\n",
       "      <th>CY083776</th>\n",
       "      <td>5.74</td>\n",
       "      <td>9.74</td>\n",
       "      <td>6.11</td>\n",
       "      <td>6.04</td>\n",
       "      <td>6.04</td>\n",
       "      <td>6.02</td>\n",
       "      <td>6.02</td>\n",
       "      <td>6.04</td>\n",
       "      <td>6.04</td>\n",
       "      <td>5.63</td>\n",
       "      <td>...</td>\n",
       "      <td>10.76</td>\n",
       "      <td>6.06</td>\n",
       "      <td>5.68</td>\n",
       "      <td>6.04</td>\n",
       "      <td>5.65</td>\n",
       "      <td>5.02</td>\n",
       "      <td>10.76</td>\n",
       "      <td>6.04</td>\n",
       "      <td>5.02</td>\n",
       "      <td>6.04</td>\n",
       "    </tr>\n",
       "  </tbody>\n",
       "</table>\n",
       "<p>5 rows × 566 columns</p>\n",
       "</div>"
      ],
      "text/plain": [
       "           0     1     2      3     4     5     6     7     8     9    ...   \\\n",
       "CY021709  5.74  9.74  6.11  10.76  6.04  6.04  6.02  6.04  6.04  5.02  ...    \n",
       "CY020285  5.74  9.74  6.11  10.76  6.04  6.04  6.02  6.04  6.04  5.02  ...    \n",
       "CY083910  5.74  9.74  6.11   6.04  6.04  6.02  6.02  6.04  6.04  5.63  ...    \n",
       "CY063606  5.74  9.74  6.11   6.04  6.04  6.02  6.02  6.04  6.04  5.63  ...    \n",
       "CY083776  5.74  9.74  6.11   6.04  6.04  6.02  6.02  6.04  6.04  5.63  ...    \n",
       "\n",
       "            556   557   558   559   560   561    562   563   564   565  \n",
       "CY021709  10.76  6.06  5.68  6.04  5.65  5.02  10.76  6.04  5.02  6.04  \n",
       "CY020285  10.76  6.06  5.68  6.04  5.65  5.02  10.76  6.04  5.02  6.04  \n",
       "CY083910  10.76  6.06  5.68  6.04  5.65  5.02  10.76  6.04  5.02  6.04  \n",
       "CY063606  10.76  6.06  5.68  6.04  5.65  5.02  10.76  6.04  5.02  6.04  \n",
       "CY083776  10.76  6.06  5.68  6.04  5.65  5.02  10.76  6.04  5.02  6.04  \n",
       "\n",
       "[5 rows x 566 columns]"
      ]
     },
     "execution_count": 11,
     "metadata": {},
     "output_type": "execute_result"
    }
   ],
   "source": [
    "# Transform the df into isoelectric point features.\n",
    "seq_feats = seq_df.replace(isoelectric_points.keys(), isoelectric_points.values())\n",
    "seq_feats.index = seqids\n",
    "seq_feats.head()"
   ]
  },
  {
   "cell_type": "code",
   "execution_count": 12,
   "metadata": {
    "collapsed": false
   },
   "outputs": [],
   "source": [
    "# Quick check to make sure that we have no strings:\n",
    "for c in seq_feats.columns:\n",
    "    letters = set(seq_feats[c])\n",
    "    for item in letters:\n",
    "        assert not isinstance(item, str)"
   ]
  },
  {
   "cell_type": "code",
   "execution_count": 13,
   "metadata": {
    "collapsed": false
   },
   "outputs": [
    {
     "data": {
      "text/html": [
       "<div>\n",
       "<table border=\"1\" class=\"dataframe\">\n",
       "  <thead>\n",
       "    <tr style=\"text-align: right;\">\n",
       "      <th></th>\n",
       "      <th>Name</th>\n",
       "      <th>Complete Genome</th>\n",
       "      <th>Segment</th>\n",
       "      <th>Segment Length</th>\n",
       "      <th>Subtype</th>\n",
       "      <th>Collection Date</th>\n",
       "      <th>Host Species</th>\n",
       "      <th>Country</th>\n",
       "      <th>State/Province</th>\n",
       "      <th>Flu Season</th>\n",
       "      <th>Strain Name</th>\n",
       "    </tr>\n",
       "    <tr>\n",
       "      <th>Sequence Accession</th>\n",
       "      <th></th>\n",
       "      <th></th>\n",
       "      <th></th>\n",
       "      <th></th>\n",
       "      <th></th>\n",
       "      <th></th>\n",
       "      <th></th>\n",
       "      <th></th>\n",
       "      <th></th>\n",
       "      <th></th>\n",
       "      <th></th>\n",
       "    </tr>\n",
       "  </thead>\n",
       "  <tbody>\n",
       "    <tr>\n",
       "      <th>K00429</th>\n",
       "      <td>HA</td>\n",
       "      <td>No</td>\n",
       "      <td>4</td>\n",
       "      <td>1730</td>\n",
       "      <td>H7N7</td>\n",
       "      <td>1980</td>\n",
       "      <td>Sea Mammal</td>\n",
       "      <td>USA</td>\n",
       "      <td>Massachusetts</td>\n",
       "      <td>-N/A-</td>\n",
       "      <td>A/seal/Mass/1/1980</td>\n",
       "    </tr>\n",
       "    <tr>\n",
       "      <th>J02176</th>\n",
       "      <td>HA</td>\n",
       "      <td>Yes</td>\n",
       "      <td>4</td>\n",
       "      <td>1775</td>\n",
       "      <td>H1N1</td>\n",
       "      <td>1933</td>\n",
       "      <td>Human</td>\n",
       "      <td>United Kingdom</td>\n",
       "      <td>-N/A-</td>\n",
       "      <td>-N/A-</td>\n",
       "      <td>A/WSN/1933</td>\n",
       "    </tr>\n",
       "    <tr>\n",
       "      <th>CY021709</th>\n",
       "      <td>HA</td>\n",
       "      <td>Yes</td>\n",
       "      <td>4</td>\n",
       "      <td>1751</td>\n",
       "      <td>H1N1</td>\n",
       "      <td>1945</td>\n",
       "      <td>Human</td>\n",
       "      <td>USA</td>\n",
       "      <td>Texas</td>\n",
       "      <td>-N/A-</td>\n",
       "      <td>A/AA/Huston/1945</td>\n",
       "    </tr>\n",
       "    <tr>\n",
       "      <th>CY020285</th>\n",
       "      <td>HA</td>\n",
       "      <td>Yes</td>\n",
       "      <td>4</td>\n",
       "      <td>1741</td>\n",
       "      <td>H1N1</td>\n",
       "      <td>1943</td>\n",
       "      <td>Human</td>\n",
       "      <td>USA</td>\n",
       "      <td>Unknown</td>\n",
       "      <td>-N/A-</td>\n",
       "      <td>A/AA/Marton/1943</td>\n",
       "    </tr>\n",
       "    <tr>\n",
       "      <th>CY083910</th>\n",
       "      <td>HA</td>\n",
       "      <td>Yes</td>\n",
       "      <td>4</td>\n",
       "      <td>1752</td>\n",
       "      <td>H1N1</td>\n",
       "      <td>11/23/2009</td>\n",
       "      <td>Human</td>\n",
       "      <td>Denmark</td>\n",
       "      <td>-N/A-</td>\n",
       "      <td>09-10</td>\n",
       "      <td>A/Aalborg/INS132/2009(H1N1)</td>\n",
       "    </tr>\n",
       "  </tbody>\n",
       "</table>\n",
       "</div>"
      ],
      "text/plain": [
       "                   Name Complete Genome  Segment  Segment Length Subtype  \\\n",
       "Sequence Accession                                                         \n",
       "K00429               HA              No        4            1730    H7N7   \n",
       "J02176               HA             Yes        4            1775    H1N1   \n",
       "CY021709             HA             Yes        4            1751    H1N1   \n",
       "CY020285             HA             Yes        4            1741    H1N1   \n",
       "CY083910             HA             Yes        4            1752    H1N1   \n",
       "\n",
       "                   Collection Date Host Species         Country  \\\n",
       "Sequence Accession                                                \n",
       "K00429                        1980   Sea Mammal             USA   \n",
       "J02176                        1933        Human  United Kingdom   \n",
       "CY021709                      1945        Human             USA   \n",
       "CY020285                      1943        Human             USA   \n",
       "CY083910                11/23/2009        Human         Denmark   \n",
       "\n",
       "                   State/Province Flu Season                  Strain Name  \n",
       "Sequence Accession                                                         \n",
       "K00429              Massachusetts      -N/A-           A/seal/Mass/1/1980  \n",
       "J02176                      -N/A-      -N/A-                   A/WSN/1933  \n",
       "CY021709                    Texas      -N/A-             A/AA/Huston/1945  \n",
       "CY020285                  Unknown      -N/A-             A/AA/Marton/1943  \n",
       "CY083910                    -N/A-      09-10  A/Aalborg/INS132/2009(H1N1)  "
      ]
     },
     "execution_count": 13,
     "metadata": {},
     "output_type": "execute_result"
    }
   ],
   "source": [
    "# Let us now load our labels.\n",
    "labels = pd.read_csv('data/20160127_HA_prediction.csv', parse_dates=['Collection Date'])\n",
    "labels['Host Species'] = labels['Host Species'].str.replace('IRD:', '').str.replace('/Avian', '')\n",
    "labels['Sequence Accession'] = labels['Sequence Accession'].str.replace('*', '')\n",
    "labels.set_index('Sequence Accession', inplace=True)\n",
    "labels.head()"
   ]
  },
  {
   "cell_type": "code",
   "execution_count": 14,
   "metadata": {
    "collapsed": false
   },
   "outputs": [
    {
     "data": {
      "text/html": [
       "<div>\n",
       "<table border=\"1\" class=\"dataframe\">\n",
       "  <thead>\n",
       "    <tr style=\"text-align: right;\">\n",
       "      <th></th>\n",
       "      <th>0</th>\n",
       "      <th>1</th>\n",
       "      <th>2</th>\n",
       "      <th>3</th>\n",
       "      <th>4</th>\n",
       "      <th>5</th>\n",
       "      <th>6</th>\n",
       "      <th>7</th>\n",
       "      <th>8</th>\n",
       "      <th>9</th>\n",
       "      <th>...</th>\n",
       "      <th>557</th>\n",
       "      <th>558</th>\n",
       "      <th>559</th>\n",
       "      <th>560</th>\n",
       "      <th>561</th>\n",
       "      <th>562</th>\n",
       "      <th>563</th>\n",
       "      <th>564</th>\n",
       "      <th>565</th>\n",
       "      <th>Host Species</th>\n",
       "    </tr>\n",
       "  </thead>\n",
       "  <tbody>\n",
       "    <tr>\n",
       "      <th>CY021709</th>\n",
       "      <td>5.74</td>\n",
       "      <td>9.74</td>\n",
       "      <td>6.11</td>\n",
       "      <td>10.76</td>\n",
       "      <td>6.04</td>\n",
       "      <td>6.04</td>\n",
       "      <td>6.02</td>\n",
       "      <td>6.04</td>\n",
       "      <td>6.04</td>\n",
       "      <td>5.02</td>\n",
       "      <td>...</td>\n",
       "      <td>6.06</td>\n",
       "      <td>5.68</td>\n",
       "      <td>6.04</td>\n",
       "      <td>5.65</td>\n",
       "      <td>5.02</td>\n",
       "      <td>10.76</td>\n",
       "      <td>6.04</td>\n",
       "      <td>5.02</td>\n",
       "      <td>6.04</td>\n",
       "      <td>Human</td>\n",
       "    </tr>\n",
       "    <tr>\n",
       "      <th>CY020285</th>\n",
       "      <td>5.74</td>\n",
       "      <td>9.74</td>\n",
       "      <td>6.11</td>\n",
       "      <td>10.76</td>\n",
       "      <td>6.04</td>\n",
       "      <td>6.04</td>\n",
       "      <td>6.02</td>\n",
       "      <td>6.04</td>\n",
       "      <td>6.04</td>\n",
       "      <td>5.02</td>\n",
       "      <td>...</td>\n",
       "      <td>6.06</td>\n",
       "      <td>5.68</td>\n",
       "      <td>6.04</td>\n",
       "      <td>5.65</td>\n",
       "      <td>5.02</td>\n",
       "      <td>10.76</td>\n",
       "      <td>6.04</td>\n",
       "      <td>5.02</td>\n",
       "      <td>6.04</td>\n",
       "      <td>Human</td>\n",
       "    </tr>\n",
       "    <tr>\n",
       "      <th>CY083910</th>\n",
       "      <td>5.74</td>\n",
       "      <td>9.74</td>\n",
       "      <td>6.11</td>\n",
       "      <td>6.04</td>\n",
       "      <td>6.04</td>\n",
       "      <td>6.02</td>\n",
       "      <td>6.02</td>\n",
       "      <td>6.04</td>\n",
       "      <td>6.04</td>\n",
       "      <td>5.63</td>\n",
       "      <td>...</td>\n",
       "      <td>6.06</td>\n",
       "      <td>5.68</td>\n",
       "      <td>6.04</td>\n",
       "      <td>5.65</td>\n",
       "      <td>5.02</td>\n",
       "      <td>10.76</td>\n",
       "      <td>6.04</td>\n",
       "      <td>5.02</td>\n",
       "      <td>6.04</td>\n",
       "      <td>Human</td>\n",
       "    </tr>\n",
       "    <tr>\n",
       "      <th>CY063606</th>\n",
       "      <td>5.74</td>\n",
       "      <td>9.74</td>\n",
       "      <td>6.11</td>\n",
       "      <td>6.04</td>\n",
       "      <td>6.04</td>\n",
       "      <td>6.02</td>\n",
       "      <td>6.02</td>\n",
       "      <td>6.04</td>\n",
       "      <td>6.04</td>\n",
       "      <td>5.63</td>\n",
       "      <td>...</td>\n",
       "      <td>6.06</td>\n",
       "      <td>5.68</td>\n",
       "      <td>6.04</td>\n",
       "      <td>5.65</td>\n",
       "      <td>5.02</td>\n",
       "      <td>10.76</td>\n",
       "      <td>6.04</td>\n",
       "      <td>5.02</td>\n",
       "      <td>6.04</td>\n",
       "      <td>Human</td>\n",
       "    </tr>\n",
       "    <tr>\n",
       "      <th>CY083776</th>\n",
       "      <td>5.74</td>\n",
       "      <td>9.74</td>\n",
       "      <td>6.11</td>\n",
       "      <td>6.04</td>\n",
       "      <td>6.04</td>\n",
       "      <td>6.02</td>\n",
       "      <td>6.02</td>\n",
       "      <td>6.04</td>\n",
       "      <td>6.04</td>\n",
       "      <td>5.63</td>\n",
       "      <td>...</td>\n",
       "      <td>6.06</td>\n",
       "      <td>5.68</td>\n",
       "      <td>6.04</td>\n",
       "      <td>5.65</td>\n",
       "      <td>5.02</td>\n",
       "      <td>10.76</td>\n",
       "      <td>6.04</td>\n",
       "      <td>5.02</td>\n",
       "      <td>6.04</td>\n",
       "      <td>Human</td>\n",
       "    </tr>\n",
       "  </tbody>\n",
       "</table>\n",
       "<p>5 rows × 567 columns</p>\n",
       "</div>"
      ],
      "text/plain": [
       "             0     1     2      3     4     5     6     7     8     9  \\\n",
       "CY021709  5.74  9.74  6.11  10.76  6.04  6.04  6.02  6.04  6.04  5.02   \n",
       "CY020285  5.74  9.74  6.11  10.76  6.04  6.04  6.02  6.04  6.04  5.02   \n",
       "CY083910  5.74  9.74  6.11   6.04  6.04  6.02  6.02  6.04  6.04  5.63   \n",
       "CY063606  5.74  9.74  6.11   6.04  6.04  6.02  6.02  6.04  6.04  5.63   \n",
       "CY083776  5.74  9.74  6.11   6.04  6.04  6.02  6.02  6.04  6.04  5.63   \n",
       "\n",
       "              ...        557   558   559   560   561    562   563   564   565  \\\n",
       "CY021709      ...       6.06  5.68  6.04  5.65  5.02  10.76  6.04  5.02  6.04   \n",
       "CY020285      ...       6.06  5.68  6.04  5.65  5.02  10.76  6.04  5.02  6.04   \n",
       "CY083910      ...       6.06  5.68  6.04  5.65  5.02  10.76  6.04  5.02  6.04   \n",
       "CY063606      ...       6.06  5.68  6.04  5.65  5.02  10.76  6.04  5.02  6.04   \n",
       "CY083776      ...       6.06  5.68  6.04  5.65  5.02  10.76  6.04  5.02  6.04   \n",
       "\n",
       "          Host Species  \n",
       "CY021709         Human  \n",
       "CY020285         Human  \n",
       "CY083910         Human  \n",
       "CY063606         Human  \n",
       "CY083776         Human  \n",
       "\n",
       "[5 rows x 567 columns]"
      ]
     },
     "execution_count": 14,
     "metadata": {},
     "output_type": "execute_result"
    }
   ],
   "source": [
    "# Let's join in the labels so that we have everything in one big massive table.\n",
    "data_matrix = seq_feats.join(labels['Host Species'], how='inner')\n",
    "data_matrix.head()"
   ]
  },
  {
   "cell_type": "code",
   "execution_count": 15,
   "metadata": {
    "collapsed": false,
    "scrolled": true
   },
   "outputs": [],
   "source": [
    "# Quickly inspect the different labels under \"host species\"\n",
    "# set(data_matrix['Host Species'])"
   ]
  },
  {
   "cell_type": "code",
   "execution_count": 16,
   "metadata": {
    "collapsed": true
   },
   "outputs": [],
   "source": [
    "# We will want to predict the labels for: \"Avian\", \"Bird\", \"Environment\", \"Unknown\", \"null\"\n",
    "unknown_labels = ['Avian', 'Bird', 'Environment', 'Unknown', 'null']\n",
    "known_labels = set(data_matrix['Host Species']) - set(unknown_labels)"
   ]
  },
  {
   "cell_type": "code",
   "execution_count": 17,
   "metadata": {
    "collapsed": true
   },
   "outputs": [],
   "source": [
    "# Let's further split the data into the \"unknowns\" and the \"knowns\"\n",
    "unknowns = data_matrix[data_matrix['Host Species'].isin(unknown_labels)]\n",
    "knowns = data_matrix[data_matrix['Host Species'].isin(known_labels)]"
   ]
  },
  {
   "cell_type": "code",
   "execution_count": 18,
   "metadata": {
    "collapsed": false
   },
   "outputs": [
    {
     "data": {
      "text/plain": [
       "array([[0, 0, 0, ..., 0, 0, 0],\n",
       "       [0, 0, 0, ..., 0, 0, 0],\n",
       "       [0, 0, 0, ..., 0, 0, 0],\n",
       "       ..., \n",
       "       [0, 0, 0, ..., 0, 0, 0],\n",
       "       [0, 0, 0, ..., 0, 0, 0],\n",
       "       [0, 0, 0, ..., 0, 0, 0]])"
      ]
     },
     "execution_count": 18,
     "metadata": {},
     "output_type": "execute_result"
    }
   ],
   "source": [
    "# Finally, we want to convert the known host species into a matrix of 1s and 0s, so that we can use them as inputs\n",
    "# to the training algorithm.\n",
    "\n",
    "lb = LabelBinarizer()\n",
    "lb.fit([s for s in known_labels])\n",
    "lb.transform(knowns['Host Species'])  # note: this has not done anything to the original data."
   ]
  },
  {
   "cell_type": "markdown",
   "metadata": {},
   "source": [
    "# Train/Test Split\n",
    "\n",
    "We're almost ready for training a machine learning model to classify the unknown hosts based on their sequence.\n",
    "\n",
    "Here's the proper procedure.\n",
    "\n",
    "1. Split the labelled data into a training and testing set. (~70 train/30 test to 80 train/20 test)\n",
    "1. Train and evaluate a model on the training set.\n",
    "1. Make predictions on the testing set, evaluate the model on testing set accuracy.\n",
    "\n",
    "This procedure is known as cross-validation, and is a powerful, yet cheap & easy method for evaluating how good a particular supervised learning model works."
   ]
  },
  {
   "cell_type": "code",
   "execution_count": 19,
   "metadata": {
    "collapsed": false
   },
   "outputs": [],
   "source": [
    "# Split the data into a training and testing set.\n",
    "X_cols = [i for i in range(0,566)]\n",
    "X = knowns[X_cols]\n",
    "Y = lb.transform(knowns['Host Species'])\n",
    "\n",
    "X_train, X_test, Y_train, Y_test = train_test_split(X, Y, test_size=0.2)"
   ]
  },
  {
   "cell_type": "code",
   "execution_count": 20,
   "metadata": {
    "collapsed": false
   },
   "outputs": [
    {
     "data": {
      "text/plain": [
       "array([[ 0.,  0.,  0., ...,  0.,  0.,  0.],\n",
       "       [ 0.,  0.,  0., ...,  0.,  0.,  0.],\n",
       "       [ 0.,  0.,  0., ...,  0.,  0.,  0.],\n",
       "       ..., \n",
       "       [ 0.,  0.,  0., ...,  0.,  0.,  0.],\n",
       "       [ 0.,  0.,  0., ...,  0.,  0.,  0.],\n",
       "       [ 0.,  0.,  0., ...,  0.,  0.,  0.]])"
      ]
     },
     "execution_count": 20,
     "metadata": {},
     "output_type": "execute_result"
    }
   ],
   "source": [
    "# Train a Random Forest Classifier.\n",
    "# Note: This cell takes a while; any questions?\n",
    "\n",
    "# Initialize the classifier object.\n",
    "clf = RandomForestClassifier()\n",
    "\n",
    "# Train (i.e. \"fit\") the classifier to the training Xs and Ys\n",
    "clf.fit(X_train, Y_train)\n",
    "\n",
    "# Make predictions on the test X\n",
    "preds = clf.predict(X_test)\n",
    "preds"
   ]
  },
  {
   "cell_type": "code",
   "execution_count": 21,
   "metadata": {
    "collapsed": false
   },
   "outputs": [
    {
     "data": {
      "text/plain": [
       "array(['Swine', 'Human', 'Human', ..., 'Human', 'Mallard', 'Swine'], \n",
       "      dtype='<U27')"
      ]
     },
     "execution_count": 21,
     "metadata": {},
     "output_type": "execute_result"
    }
   ],
   "source": [
    "lb.inverse_transform(preds)"
   ]
  },
  {
   "cell_type": "markdown",
   "metadata": {},
   "source": [
    "### How do we evaluate how good the classification task performed?\n",
    "\n",
    "For binary classification, the Receiver-Operator Characteristic curve is a great way to evaluate a classification task.\n",
    "\n",
    "For multi-label classification, which is the case we have here, accuracy score is a great starting place."
   ]
  },
  {
   "cell_type": "code",
   "execution_count": 22,
   "metadata": {
    "collapsed": false
   },
   "outputs": [
    {
     "data": {
      "text/plain": [
       "0.92748333862265953"
      ]
     },
     "execution_count": 22,
     "metadata": {},
     "output_type": "execute_result"
    }
   ],
   "source": [
    "# Let's first take a look at the accuracy score: the fraction that were classified correctly.\n",
    "accuracy_score(lb.inverse_transform(Y_test), lb.inverse_transform(preds))"
   ]
  },
  {
   "cell_type": "markdown",
   "metadata": {},
   "source": [
    "### What about those sequences for which the hosts were unknown?\n",
    "\n",
    "We can run the `predict(unknown_Xs)` to predict what their hosts were likely to be, given their sequence."
   ]
  },
  {
   "cell_type": "code",
   "execution_count": 23,
   "metadata": {
    "collapsed": false
   },
   "outputs": [
    {
     "data": {
      "text/plain": [
       "array(['American Black Duck', 'Guineafowl', 'Duck', 'Duck', 'Duck', 'Duck',\n",
       "       'Mallard', 'Duck', 'Duck', 'Mallard', 'American Black Duck',\n",
       "       'Herring Gull', 'Laughing Gull', 'Shorebird', 'American Black Duck',\n",
       "       'American Black Duck', 'Human', 'Human', 'Duck', 'Duck', 'Duck',\n",
       "       'Duck', 'Duck', 'Duck', 'Duck', 'Duck', 'American Black Duck',\n",
       "       'American Black Duck', 'American Black Duck', 'Duck', 'Mallard',\n",
       "       'Mallard', 'Duck', 'American Black Duck', 'Mallard', 'Mallard',\n",
       "       'Mallard', 'Mallard', 'Mallard', 'Mallard', 'Mallard',\n",
       "       'American Black Duck', 'American Black Duck', 'American Black Duck',\n",
       "       'American Black Duck', 'American Black Duck', 'American Black Duck',\n",
       "       'American Black Duck', 'American Black Duck', 'American Black Duck',\n",
       "       'American Black Duck', 'American Black Duck', 'American Black Duck',\n",
       "       'American Black Duck', 'American Black Duck', 'American Black Duck',\n",
       "       'American Black Duck', 'American Black Duck', 'American Black Duck',\n",
       "       'American Black Duck', 'American Black Duck', 'American Black Duck',\n",
       "       'American Black Duck', 'American Black Duck', 'American Black Duck',\n",
       "       'American Black Duck', 'American Black Duck', 'American Black Duck',\n",
       "       'American Black Duck', 'American Black Duck', 'American Black Duck',\n",
       "       'Mallard', 'Mallard', 'Mallard', 'Mallard', 'Mallard', 'Mallard',\n",
       "       'Mallard', 'Blue-Winged Teal', 'Blue-Winged Teal',\n",
       "       'Blue-Winged Teal', 'Blue-Winged Teal', 'Blue-Winged Teal',\n",
       "       'Blue-Winged Teal', 'Blue-Winged Teal', 'Blue-Winged Teal',\n",
       "       'Blue-Winged Teal', 'Blue-Winged Teal', 'Blue-Winged Teal',\n",
       "       'Blue-Winged Teal', 'Blue-Winged Teal', 'Blue-Winged Teal',\n",
       "       'Blue-Winged Teal', 'Blue-Winged Teal', 'Blue-Winged Teal',\n",
       "       'Blue-Winged Teal', 'Blue-Winged Teal', 'Blue-Winged Teal',\n",
       "       'Blue-Winged Teal', 'Blue-Winged Teal', 'Blue-Winged Teal',\n",
       "       'Blue-Winged Teal', 'Blue-Winged Teal', 'Blue-Winged Teal',\n",
       "       'Mallard', 'Duck', 'American Black Duck', 'American Black Duck',\n",
       "       'American Black Duck', 'Mallard', 'Blue-Winged Teal', 'Duck',\n",
       "       'Duck', 'Duck', 'Duck', 'American Black Duck', 'Duck', 'Duck',\n",
       "       'Duck', 'Chicken', 'Human', 'Human', 'American Black Duck', 'Gull',\n",
       "       'Human', 'Mallard', 'Human', 'Human', 'Mallard',\n",
       "       'American Black Duck', 'Muscovy Duck', 'Mallard',\n",
       "       'American Black Duck', 'American Black Duck', 'American Black Duck',\n",
       "       'American Black Duck', 'American Black Duck', 'American Black Duck'], \n",
       "      dtype='<U27')"
      ]
     },
     "execution_count": 23,
     "metadata": {},
     "output_type": "execute_result"
    }
   ],
   "source": [
    "unknown_preds = clf.predict(unknowns[X_cols])  # make predictions; note: these are still dummy-encoded.\n",
    "unknown_preds = lb.inverse_transform(unknown_preds)  # convert dummy-encodings back to string labels.\n",
    "unknown_preds"
   ]
  },
  {
   "cell_type": "markdown",
   "metadata": {},
   "source": [
    "What this gives us is the class label with the highest probability of being the correct one. \n",
    "\n",
    "While we will not do this here, at this point, it would be a good idea to double-check your work with a sanity check. Are the sequences that are predicted to be `Human` truly of a close sequence similarity to actual `Human` sequences? You may want to do a Multiple Sequence Alignment, or you might want to simply compute the Levenshtein or Hamming distance between the two sequences, as a sanity check."
   ]
  },
  {
   "cell_type": "markdown",
   "metadata": {},
   "source": [
    "### How do we interpret what the classifier learned?\n",
    "\n",
    "Depending on the classifier used, you can peer inside the model to get a feel for what the classifier learned about the features that best predict the class label.\n",
    "\n",
    "The `RandomForestClassifier` provides a `feature_importances_` attribute that we can access and plot."
   ]
  },
  {
   "cell_type": "code",
   "execution_count": 25,
   "metadata": {
    "collapsed": false
   },
   "outputs": [
    {
     "data": {
      "text/plain": [
       "[<matplotlib.lines.Line2D at 0x1159fd2e8>]"
      ]
     },
     "execution_count": 25,
     "metadata": {},
     "output_type": "execute_result"
    },
    {
     "data": {
      "image/png": "[encoded data removed]",
      "text/plain": [
       "<matplotlib.figure.Figure at 0x114d6def0>"
      ]
     },
     "metadata": {},
     "output_type": "display_data"
    }
   ],
   "source": [
    "plt.plot(clf.feature_importances_)"
   ]
  },
  {
   "cell_type": "markdown",
   "metadata": {},
   "source": [
    "The interpretation here is that the positions with greater \"feature importance\" were better at predicting the host class."
   ]
  },
  {
   "cell_type": "markdown",
   "metadata": {},
   "source": [
    "## Hands-On Exercises\n",
    "\n",
    "Now that you've seen the coding pattern for classification using the `RandomForestClassifier`, try it out for the `DecisionTreeClassifier`, evaluate its accuracy, and if applicable, try doing the \"peering inside\" of the model."
   ]
  },
  {
   "cell_type": "code",
   "execution_count": null,
   "metadata": {
    "collapsed": false
   },
   "outputs": [],
   "source": []
  },
  {
   "cell_type": "code",
   "execution_count": null,
   "metadata": {
    "collapsed": false,
    "scrolled": true
   },
   "outputs": [],
   "source": []
  },
  {
   "cell_type": "code",
   "execution_count": null,
   "metadata": {
    "collapsed": false
   },
   "outputs": [],
   "source": []
  },
  {
   "cell_type": "markdown",
   "metadata": {},
   "source": [
    "## Conclusions\n",
    "\n",
    "- Classification: it's all about using features to predict a label.\n",
    "    - `classifier.fit(train_data)`\n",
    "    - `classifier.predict(test_data)`\n",
    "- Split your data into training and testing sets."
   ]
  },
  {
   "cell_type": "markdown",
   "metadata": {},
   "source": [
    "# Bonus exercise (time permitting)\n",
    "\n",
    "Can you train a model to classify the two types of influenza H1N1 sequences from the previous notebook?"
   ]
  },
  {
   "cell_type": "code",
   "execution_count": null,
   "metadata": {
    "collapsed": true
   },
   "outputs": [],
   "source": []
  }
 ],
 "metadata": {
  "kernelspec": {
   "display_name": "Python 3",
   "language": "python",
   "name": "python3"
  },
  "language_info": {
   "codemirror_mode": {
    "name": "ipython",
    "version": 3
   },
   "file_extension": ".py",
   "mimetype": "text/x-python",
   "name": "python",
   "nbconvert_exporter": "python",
   "pygments_lexer": "ipython3",
   "version": "3.4.4"
  }
 },
 "nbformat": 4,
 "nbformat_minor": 0
}
