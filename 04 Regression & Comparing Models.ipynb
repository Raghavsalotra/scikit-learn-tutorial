{
 "cells": [
  {
   "cell_type": "code",
   "execution_count": 48,
   "metadata": {
    "collapsed": true
   },
   "outputs": [],
   "source": [
    "%load_ext autoreload\n",
    "%autoreload 2\n",
    "%matplotlib inline"
   ]
  },
  {
   "cell_type": "code",
   "execution_count": 90,
   "metadata": {
    "collapsed": false
   },
   "outputs": [
    {
     "name": "stderr",
     "output_type": "stream",
     "text": [
      "/Users/ericmjl/anaconda/lib/python3.4/site-packages/matplotlib/__init__.py:872: UserWarning: axes.color_cycle is deprecated and replaced with axes.prop_cycle; please use the latter.\n",
      "  warnings.warn(self.msg_depr % (key, alt_key))\n"
     ]
    }
   ],
   "source": [
    "from Bio import SeqIO\n",
    "from Bio.Align import MultipleSeqAlignment\n",
    "from sklearn.cross_validation import ShuffleSplit, train_test_split, cross_val_score\n",
    "from sklearn.ensemble import RandomForestRegressor, ExtraTreesRegressor, AdaBoostRegressor, GradientBoostingRegressor\n",
    "from sklearn.metrics import r2_score, mean_squared_error\n",
    "from util.isoelectric_point import isoelectric_points\n",
    "\n",
    "import pandas as pd\n",
    "import numpy as np\n",
    "import matplotlib.pyplot as plt\n",
    "import seaborn as sns\n",
    "\n",
    "sns.set_style('white')\n",
    "sns.set_context('notebook')"
   ]
  },
  {
   "cell_type": "markdown",
   "metadata": {},
   "source": [
    "We will train a model to predict drug resistance values from sequence.\n",
    "\n",
    "This is the other general variant of supervised learning - where instead of predicting a \"label\" for a class (classification), we are predicting a \"number\" or a \"value\". This is called \"regression\", analogous to, say, linear regression or logistic regression."
   ]
  },
  {
   "cell_type": "code",
   "execution_count": 39,
   "metadata": {
    "collapsed": false
   },
   "outputs": [
    {
     "data": {
      "text/html": [
       "<div>\n",
       "<table border=\"1\" class=\"dataframe\">\n",
       "  <thead>\n",
       "    <tr style=\"text-align: right;\">\n",
       "      <th></th>\n",
       "      <th>0</th>\n",
       "      <th>1</th>\n",
       "      <th>2</th>\n",
       "      <th>3</th>\n",
       "      <th>4</th>\n",
       "      <th>5</th>\n",
       "      <th>6</th>\n",
       "      <th>7</th>\n",
       "      <th>8</th>\n",
       "      <th>9</th>\n",
       "      <th>...</th>\n",
       "      <th>89</th>\n",
       "      <th>90</th>\n",
       "      <th>91</th>\n",
       "      <th>92</th>\n",
       "      <th>93</th>\n",
       "      <th>94</th>\n",
       "      <th>95</th>\n",
       "      <th>96</th>\n",
       "      <th>97</th>\n",
       "      <th>98</th>\n",
       "    </tr>\n",
       "  </thead>\n",
       "  <tbody>\n",
       "    <tr>\n",
       "      <th>2996-0</th>\n",
       "      <td>P</td>\n",
       "      <td>Q</td>\n",
       "      <td>I</td>\n",
       "      <td>T</td>\n",
       "      <td>L</td>\n",
       "      <td>W</td>\n",
       "      <td>Q</td>\n",
       "      <td>R</td>\n",
       "      <td>P</td>\n",
       "      <td>I</td>\n",
       "      <td>...</td>\n",
       "      <td>M</td>\n",
       "      <td>T</td>\n",
       "      <td>Q</td>\n",
       "      <td>L</td>\n",
       "      <td>G</td>\n",
       "      <td>C</td>\n",
       "      <td>T</td>\n",
       "      <td>L</td>\n",
       "      <td>N</td>\n",
       "      <td>F</td>\n",
       "    </tr>\n",
       "    <tr>\n",
       "      <th>2996-1</th>\n",
       "      <td>P</td>\n",
       "      <td>Q</td>\n",
       "      <td>I</td>\n",
       "      <td>T</td>\n",
       "      <td>L</td>\n",
       "      <td>W</td>\n",
       "      <td>Q</td>\n",
       "      <td>R</td>\n",
       "      <td>P</td>\n",
       "      <td>I</td>\n",
       "      <td>...</td>\n",
       "      <td>M</td>\n",
       "      <td>T</td>\n",
       "      <td>Q</td>\n",
       "      <td>L</td>\n",
       "      <td>G</td>\n",
       "      <td>C</td>\n",
       "      <td>T</td>\n",
       "      <td>L</td>\n",
       "      <td>N</td>\n",
       "      <td>F</td>\n",
       "    </tr>\n",
       "    <tr>\n",
       "      <th>4387-0</th>\n",
       "      <td>P</td>\n",
       "      <td>Q</td>\n",
       "      <td>I</td>\n",
       "      <td>T</td>\n",
       "      <td>L</td>\n",
       "      <td>W</td>\n",
       "      <td>Q</td>\n",
       "      <td>R</td>\n",
       "      <td>P</td>\n",
       "      <td>L</td>\n",
       "      <td>...</td>\n",
       "      <td>L</td>\n",
       "      <td>T</td>\n",
       "      <td>Q</td>\n",
       "      <td>I</td>\n",
       "      <td>G</td>\n",
       "      <td>C</td>\n",
       "      <td>T</td>\n",
       "      <td>L</td>\n",
       "      <td>N</td>\n",
       "      <td>F</td>\n",
       "    </tr>\n",
       "    <tr>\n",
       "      <th>4387-1</th>\n",
       "      <td>P</td>\n",
       "      <td>Q</td>\n",
       "      <td>I</td>\n",
       "      <td>T</td>\n",
       "      <td>L</td>\n",
       "      <td>W</td>\n",
       "      <td>Q</td>\n",
       "      <td>R</td>\n",
       "      <td>P</td>\n",
       "      <td>L</td>\n",
       "      <td>...</td>\n",
       "      <td>L</td>\n",
       "      <td>T</td>\n",
       "      <td>Q</td>\n",
       "      <td>I</td>\n",
       "      <td>G</td>\n",
       "      <td>C</td>\n",
       "      <td>T</td>\n",
       "      <td>L</td>\n",
       "      <td>N</td>\n",
       "      <td>F</td>\n",
       "    </tr>\n",
       "    <tr>\n",
       "      <th>4387-2</th>\n",
       "      <td>P</td>\n",
       "      <td>Q</td>\n",
       "      <td>I</td>\n",
       "      <td>T</td>\n",
       "      <td>L</td>\n",
       "      <td>W</td>\n",
       "      <td>Q</td>\n",
       "      <td>R</td>\n",
       "      <td>P</td>\n",
       "      <td>L</td>\n",
       "      <td>...</td>\n",
       "      <td>L</td>\n",
       "      <td>T</td>\n",
       "      <td>Q</td>\n",
       "      <td>I</td>\n",
       "      <td>G</td>\n",
       "      <td>C</td>\n",
       "      <td>T</td>\n",
       "      <td>L</td>\n",
       "      <td>N</td>\n",
       "      <td>F</td>\n",
       "    </tr>\n",
       "  </tbody>\n",
       "</table>\n",
       "<p>5 rows × 99 columns</p>\n",
       "</div>"
      ],
      "text/plain": [
       "       0  1  2  3  4  5  6  7  8  9  ... 89 90 91 92 93 94 95 96 97 98\n",
       "2996-0  P  Q  I  T  L  W  Q  R  P  I ...  M  T  Q  L  G  C  T  L  N  F\n",
       "2996-1  P  Q  I  T  L  W  Q  R  P  I ...  M  T  Q  L  G  C  T  L  N  F\n",
       "4387-0  P  Q  I  T  L  W  Q  R  P  L ...  L  T  Q  I  G  C  T  L  N  F\n",
       "4387-1  P  Q  I  T  L  W  Q  R  P  L ...  L  T  Q  I  G  C  T  L  N  F\n",
       "4387-2  P  Q  I  T  L  W  Q  R  P  L ...  L  T  Q  I  G  C  T  L  N  F\n",
       "\n",
       "[5 rows x 99 columns]"
      ]
     },
     "execution_count": 39,
     "metadata": {},
     "output_type": "execute_result"
    }
   ],
   "source": [
    "# Load the sequence data as a Pandas dataframe.\n",
    "\n",
    "seqids = [s.id for s in SeqIO.parse('data/hiv-protease-sequences-expanded.fasta', 'fasta')]\n",
    "\n",
    "sequences = [s for s in SeqIO.parse('data/hiv-protease-sequences-expanded.fasta', 'fasta')]\n",
    "sequences = MultipleSeqAlignment(sequences)\n",
    "sequences = pd.DataFrame(np.array(sequences))\n",
    "sequences.index = seqids\n",
    "# Ensure that all of the letters are upper-case, otherwise the replace function in the next cell won't work.\n",
    "for col in sequences.columns:\n",
    "    sequences[col] = sequences[col].apply(lambda x: x.upper())\n",
    "    sequences[col] = sequences[col].replace('*', np.nan)\n",
    "sequences.head()"
   ]
  },
  {
   "cell_type": "code",
   "execution_count": 40,
   "metadata": {
    "collapsed": false,
    "scrolled": true
   },
   "outputs": [
    {
     "data": {
      "text/html": [
       "<div>\n",
       "<table border=\"1\" class=\"dataframe\">\n",
       "  <thead>\n",
       "    <tr style=\"text-align: right;\">\n",
       "      <th></th>\n",
       "      <th>0</th>\n",
       "      <th>1</th>\n",
       "      <th>2</th>\n",
       "      <th>3</th>\n",
       "      <th>4</th>\n",
       "      <th>5</th>\n",
       "      <th>6</th>\n",
       "      <th>7</th>\n",
       "      <th>8</th>\n",
       "      <th>9</th>\n",
       "      <th>...</th>\n",
       "      <th>89</th>\n",
       "      <th>90</th>\n",
       "      <th>91</th>\n",
       "      <th>92</th>\n",
       "      <th>93</th>\n",
       "      <th>94</th>\n",
       "      <th>95</th>\n",
       "      <th>96</th>\n",
       "      <th>97</th>\n",
       "      <th>98</th>\n",
       "    </tr>\n",
       "  </thead>\n",
       "  <tbody>\n",
       "    <tr>\n",
       "      <th>2996-0</th>\n",
       "      <td>6.3</td>\n",
       "      <td>5.65</td>\n",
       "      <td>6.04</td>\n",
       "      <td>5.6</td>\n",
       "      <td>6.04</td>\n",
       "      <td>5.88</td>\n",
       "      <td>5.65</td>\n",
       "      <td>10.76</td>\n",
       "      <td>6.3</td>\n",
       "      <td>6.04</td>\n",
       "      <td>...</td>\n",
       "      <td>5.74</td>\n",
       "      <td>5.6</td>\n",
       "      <td>5.65</td>\n",
       "      <td>6.04</td>\n",
       "      <td>6.06</td>\n",
       "      <td>5.02</td>\n",
       "      <td>5.6</td>\n",
       "      <td>6.04</td>\n",
       "      <td>10.76</td>\n",
       "      <td>5.91</td>\n",
       "    </tr>\n",
       "    <tr>\n",
       "      <th>2996-1</th>\n",
       "      <td>6.3</td>\n",
       "      <td>5.65</td>\n",
       "      <td>6.04</td>\n",
       "      <td>5.6</td>\n",
       "      <td>6.04</td>\n",
       "      <td>5.88</td>\n",
       "      <td>5.65</td>\n",
       "      <td>10.76</td>\n",
       "      <td>6.3</td>\n",
       "      <td>6.04</td>\n",
       "      <td>...</td>\n",
       "      <td>5.74</td>\n",
       "      <td>5.6</td>\n",
       "      <td>5.65</td>\n",
       "      <td>6.04</td>\n",
       "      <td>6.06</td>\n",
       "      <td>5.02</td>\n",
       "      <td>5.6</td>\n",
       "      <td>6.04</td>\n",
       "      <td>10.76</td>\n",
       "      <td>5.91</td>\n",
       "    </tr>\n",
       "    <tr>\n",
       "      <th>4387-0</th>\n",
       "      <td>6.3</td>\n",
       "      <td>5.65</td>\n",
       "      <td>6.04</td>\n",
       "      <td>5.6</td>\n",
       "      <td>6.04</td>\n",
       "      <td>5.88</td>\n",
       "      <td>5.65</td>\n",
       "      <td>10.76</td>\n",
       "      <td>6.3</td>\n",
       "      <td>6.04</td>\n",
       "      <td>...</td>\n",
       "      <td>6.04</td>\n",
       "      <td>5.6</td>\n",
       "      <td>5.65</td>\n",
       "      <td>6.04</td>\n",
       "      <td>6.06</td>\n",
       "      <td>5.02</td>\n",
       "      <td>5.6</td>\n",
       "      <td>6.04</td>\n",
       "      <td>10.76</td>\n",
       "      <td>5.91</td>\n",
       "    </tr>\n",
       "    <tr>\n",
       "      <th>4387-1</th>\n",
       "      <td>6.3</td>\n",
       "      <td>5.65</td>\n",
       "      <td>6.04</td>\n",
       "      <td>5.6</td>\n",
       "      <td>6.04</td>\n",
       "      <td>5.88</td>\n",
       "      <td>5.65</td>\n",
       "      <td>10.76</td>\n",
       "      <td>6.3</td>\n",
       "      <td>6.04</td>\n",
       "      <td>...</td>\n",
       "      <td>6.04</td>\n",
       "      <td>5.6</td>\n",
       "      <td>5.65</td>\n",
       "      <td>6.04</td>\n",
       "      <td>6.06</td>\n",
       "      <td>5.02</td>\n",
       "      <td>5.6</td>\n",
       "      <td>6.04</td>\n",
       "      <td>10.76</td>\n",
       "      <td>5.91</td>\n",
       "    </tr>\n",
       "    <tr>\n",
       "      <th>4387-2</th>\n",
       "      <td>6.3</td>\n",
       "      <td>5.65</td>\n",
       "      <td>6.04</td>\n",
       "      <td>5.6</td>\n",
       "      <td>6.04</td>\n",
       "      <td>5.88</td>\n",
       "      <td>5.65</td>\n",
       "      <td>10.76</td>\n",
       "      <td>6.3</td>\n",
       "      <td>6.04</td>\n",
       "      <td>...</td>\n",
       "      <td>6.04</td>\n",
       "      <td>5.6</td>\n",
       "      <td>5.65</td>\n",
       "      <td>6.04</td>\n",
       "      <td>6.06</td>\n",
       "      <td>5.02</td>\n",
       "      <td>5.6</td>\n",
       "      <td>6.04</td>\n",
       "      <td>10.76</td>\n",
       "      <td>5.91</td>\n",
       "    </tr>\n",
       "  </tbody>\n",
       "</table>\n",
       "<p>5 rows × 99 columns</p>\n",
       "</div>"
      ],
      "text/plain": [
       "         0     1     2    3     4     5     6      7    8     9   ...     89  \\\n",
       "2996-0  6.3  5.65  6.04  5.6  6.04  5.88  5.65  10.76  6.3  6.04  ...   5.74   \n",
       "2996-1  6.3  5.65  6.04  5.6  6.04  5.88  5.65  10.76  6.3  6.04  ...   5.74   \n",
       "4387-0  6.3  5.65  6.04  5.6  6.04  5.88  5.65  10.76  6.3  6.04  ...   6.04   \n",
       "4387-1  6.3  5.65  6.04  5.6  6.04  5.88  5.65  10.76  6.3  6.04  ...   6.04   \n",
       "4387-2  6.3  5.65  6.04  5.6  6.04  5.88  5.65  10.76  6.3  6.04  ...   6.04   \n",
       "\n",
       "         90    91    92    93    94   95    96     97    98  \n",
       "2996-0  5.6  5.65  6.04  6.06  5.02  5.6  6.04  10.76  5.91  \n",
       "2996-1  5.6  5.65  6.04  6.06  5.02  5.6  6.04  10.76  5.91  \n",
       "4387-0  5.6  5.65  6.04  6.06  5.02  5.6  6.04  10.76  5.91  \n",
       "4387-1  5.6  5.65  6.04  6.06  5.02  5.6  6.04  10.76  5.91  \n",
       "4387-2  5.6  5.65  6.04  6.06  5.02  5.6  6.04  10.76  5.91  \n",
       "\n",
       "[5 rows x 99 columns]"
      ]
     },
     "execution_count": 40,
     "metadata": {},
     "output_type": "execute_result"
    }
   ],
   "source": [
    "seqdf = sequences.replace(isoelectric_points.keys(), isoelectric_points.values())\n",
    "seqdf.head()"
   ]
  },
  {
   "cell_type": "code",
   "execution_count": 41,
   "metadata": {
    "collapsed": false
   },
   "outputs": [
    {
     "data": {
      "text/html": [
       "<div>\n",
       "<table border=\"1\" class=\"dataframe\">\n",
       "  <thead>\n",
       "    <tr style=\"text-align: right;\">\n",
       "      <th></th>\n",
       "      <th>ATV</th>\n",
       "      <th>DRV</th>\n",
       "      <th>FPV</th>\n",
       "      <th>IDV</th>\n",
       "      <th>LPV</th>\n",
       "      <th>NFV</th>\n",
       "      <th>SQV</th>\n",
       "      <th>SeqID</th>\n",
       "      <th>TPV</th>\n",
       "      <th>sequence</th>\n",
       "      <th>sequence_object</th>\n",
       "      <th>weight</th>\n",
       "    </tr>\n",
       "    <tr>\n",
       "      <th>seqid</th>\n",
       "      <th></th>\n",
       "      <th></th>\n",
       "      <th></th>\n",
       "      <th></th>\n",
       "      <th></th>\n",
       "      <th></th>\n",
       "      <th></th>\n",
       "      <th></th>\n",
       "      <th></th>\n",
       "      <th></th>\n",
       "      <th></th>\n",
       "      <th></th>\n",
       "    </tr>\n",
       "  </thead>\n",
       "  <tbody>\n",
       "    <tr>\n",
       "      <th>2996-0</th>\n",
       "      <td>NaN</td>\n",
       "      <td>NaN</td>\n",
       "      <td>2.5</td>\n",
       "      <td>16.3</td>\n",
       "      <td>NaN</td>\n",
       "      <td>38.6</td>\n",
       "      <td>16.1</td>\n",
       "      <td>2996</td>\n",
       "      <td>NaN</td>\n",
       "      <td>PQITLWQRPIVTIKIGGQLKEALLDTGADDTVLEDVNLPGRWKPKM...</td>\n",
       "      <td>ID: 2996-0\\nName: &lt;unknown name&gt;\\nDescription:...</td>\n",
       "      <td>0.50</td>\n",
       "    </tr>\n",
       "    <tr>\n",
       "      <th>2996-1</th>\n",
       "      <td>NaN</td>\n",
       "      <td>NaN</td>\n",
       "      <td>2.5</td>\n",
       "      <td>16.3</td>\n",
       "      <td>NaN</td>\n",
       "      <td>38.6</td>\n",
       "      <td>16.1</td>\n",
       "      <td>2996</td>\n",
       "      <td>NaN</td>\n",
       "      <td>PQITLWQRPIVTIKIGGQLKEALLDTGADDTVLEDVNLPGRWKPKM...</td>\n",
       "      <td>ID: 2996-1\\nName: &lt;unknown name&gt;\\nDescription:...</td>\n",
       "      <td>0.50</td>\n",
       "    </tr>\n",
       "    <tr>\n",
       "      <th>4387-0</th>\n",
       "      <td>NaN</td>\n",
       "      <td>NaN</td>\n",
       "      <td>0.7</td>\n",
       "      <td>0.8</td>\n",
       "      <td>NaN</td>\n",
       "      <td>0.8</td>\n",
       "      <td>1.1</td>\n",
       "      <td>4387</td>\n",
       "      <td>NaN</td>\n",
       "      <td>PQITLWQRPLVTIKVGGQLKEALLDTGADDTVLEDMELPGRWKPKM...</td>\n",
       "      <td>ID: 4387-0\\nName: &lt;unknown name&gt;\\nDescription:...</td>\n",
       "      <td>0.25</td>\n",
       "    </tr>\n",
       "    <tr>\n",
       "      <th>4387-1</th>\n",
       "      <td>NaN</td>\n",
       "      <td>NaN</td>\n",
       "      <td>0.7</td>\n",
       "      <td>0.8</td>\n",
       "      <td>NaN</td>\n",
       "      <td>0.8</td>\n",
       "      <td>1.1</td>\n",
       "      <td>4387</td>\n",
       "      <td>NaN</td>\n",
       "      <td>PQITLWQRPLVTIKVGGQLKEALLDTGADDTVLEDMELPGRWKPKM...</td>\n",
       "      <td>ID: 4387-1\\nName: &lt;unknown name&gt;\\nDescription:...</td>\n",
       "      <td>0.25</td>\n",
       "    </tr>\n",
       "    <tr>\n",
       "      <th>4387-2</th>\n",
       "      <td>NaN</td>\n",
       "      <td>NaN</td>\n",
       "      <td>0.7</td>\n",
       "      <td>0.8</td>\n",
       "      <td>NaN</td>\n",
       "      <td>0.8</td>\n",
       "      <td>1.1</td>\n",
       "      <td>4387</td>\n",
       "      <td>NaN</td>\n",
       "      <td>PQITLWQRPLVTIKVGGQLKEALLDTGADDTVLEDMELPGRWKPKM...</td>\n",
       "      <td>ID: 4387-2\\nName: &lt;unknown name&gt;\\nDescription:...</td>\n",
       "      <td>0.25</td>\n",
       "    </tr>\n",
       "  </tbody>\n",
       "</table>\n",
       "</div>"
      ],
      "text/plain": [
       "        ATV  DRV  FPV   IDV  LPV   NFV   SQV  SeqID  TPV  \\\n",
       "seqid                                                      \n",
       "2996-0  NaN  NaN  2.5  16.3  NaN  38.6  16.1   2996  NaN   \n",
       "2996-1  NaN  NaN  2.5  16.3  NaN  38.6  16.1   2996  NaN   \n",
       "4387-0  NaN  NaN  0.7   0.8  NaN   0.8   1.1   4387  NaN   \n",
       "4387-1  NaN  NaN  0.7   0.8  NaN   0.8   1.1   4387  NaN   \n",
       "4387-2  NaN  NaN  0.7   0.8  NaN   0.8   1.1   4387  NaN   \n",
       "\n",
       "                                                 sequence  \\\n",
       "seqid                                                       \n",
       "2996-0  PQITLWQRPIVTIKIGGQLKEALLDTGADDTVLEDVNLPGRWKPKM...   \n",
       "2996-1  PQITLWQRPIVTIKIGGQLKEALLDTGADDTVLEDVNLPGRWKPKM...   \n",
       "4387-0  PQITLWQRPLVTIKVGGQLKEALLDTGADDTVLEDMELPGRWKPKM...   \n",
       "4387-1  PQITLWQRPLVTIKVGGQLKEALLDTGADDTVLEDMELPGRWKPKM...   \n",
       "4387-2  PQITLWQRPLVTIKVGGQLKEALLDTGADDTVLEDMELPGRWKPKM...   \n",
       "\n",
       "                                          sequence_object  weight  \n",
       "seqid                                                              \n",
       "2996-0  ID: 2996-0\\nName: <unknown name>\\nDescription:...    0.50  \n",
       "2996-1  ID: 2996-1\\nName: <unknown name>\\nDescription:...    0.50  \n",
       "4387-0  ID: 4387-0\\nName: <unknown name>\\nDescription:...    0.25  \n",
       "4387-1  ID: 4387-1\\nName: <unknown name>\\nDescription:...    0.25  \n",
       "4387-2  ID: 4387-2\\nName: <unknown name>\\nDescription:...    0.25  "
      ]
     },
     "execution_count": 41,
     "metadata": {},
     "output_type": "execute_result"
    }
   ],
   "source": [
    "# Load the drug resistance values\n",
    "dr_vals = pd.read_csv('data/hiv-protease-data-expanded.csv', index_col=0)\n",
    "dr_vals.set_index('seqid', inplace=True)\n",
    "dr_vals.head()"
   ]
  },
  {
   "cell_type": "code",
   "execution_count": 42,
   "metadata": {
    "collapsed": false
   },
   "outputs": [
    {
     "data": {
      "text/html": [
       "<div>\n",
       "<table border=\"1\" class=\"dataframe\">\n",
       "  <thead>\n",
       "    <tr style=\"text-align: right;\">\n",
       "      <th></th>\n",
       "      <th>0</th>\n",
       "      <th>1</th>\n",
       "      <th>2</th>\n",
       "      <th>3</th>\n",
       "      <th>4</th>\n",
       "      <th>5</th>\n",
       "      <th>6</th>\n",
       "      <th>7</th>\n",
       "      <th>8</th>\n",
       "      <th>9</th>\n",
       "      <th>...</th>\n",
       "      <th>90</th>\n",
       "      <th>91</th>\n",
       "      <th>92</th>\n",
       "      <th>93</th>\n",
       "      <th>94</th>\n",
       "      <th>95</th>\n",
       "      <th>96</th>\n",
       "      <th>97</th>\n",
       "      <th>98</th>\n",
       "      <th>FPV</th>\n",
       "    </tr>\n",
       "  </thead>\n",
       "  <tbody>\n",
       "    <tr>\n",
       "      <th>2996-0</th>\n",
       "      <td>6.3</td>\n",
       "      <td>5.65</td>\n",
       "      <td>6.04</td>\n",
       "      <td>5.6</td>\n",
       "      <td>6.04</td>\n",
       "      <td>5.88</td>\n",
       "      <td>5.65</td>\n",
       "      <td>10.76</td>\n",
       "      <td>6.3</td>\n",
       "      <td>6.04</td>\n",
       "      <td>...</td>\n",
       "      <td>5.6</td>\n",
       "      <td>5.65</td>\n",
       "      <td>6.04</td>\n",
       "      <td>6.06</td>\n",
       "      <td>5.02</td>\n",
       "      <td>5.6</td>\n",
       "      <td>6.04</td>\n",
       "      <td>10.76</td>\n",
       "      <td>5.91</td>\n",
       "      <td>2.5</td>\n",
       "    </tr>\n",
       "    <tr>\n",
       "      <th>2996-1</th>\n",
       "      <td>6.3</td>\n",
       "      <td>5.65</td>\n",
       "      <td>6.04</td>\n",
       "      <td>5.6</td>\n",
       "      <td>6.04</td>\n",
       "      <td>5.88</td>\n",
       "      <td>5.65</td>\n",
       "      <td>10.76</td>\n",
       "      <td>6.3</td>\n",
       "      <td>6.04</td>\n",
       "      <td>...</td>\n",
       "      <td>5.6</td>\n",
       "      <td>5.65</td>\n",
       "      <td>6.04</td>\n",
       "      <td>6.06</td>\n",
       "      <td>5.02</td>\n",
       "      <td>5.6</td>\n",
       "      <td>6.04</td>\n",
       "      <td>10.76</td>\n",
       "      <td>5.91</td>\n",
       "      <td>2.5</td>\n",
       "    </tr>\n",
       "    <tr>\n",
       "      <th>4387-0</th>\n",
       "      <td>6.3</td>\n",
       "      <td>5.65</td>\n",
       "      <td>6.04</td>\n",
       "      <td>5.6</td>\n",
       "      <td>6.04</td>\n",
       "      <td>5.88</td>\n",
       "      <td>5.65</td>\n",
       "      <td>10.76</td>\n",
       "      <td>6.3</td>\n",
       "      <td>6.04</td>\n",
       "      <td>...</td>\n",
       "      <td>5.6</td>\n",
       "      <td>5.65</td>\n",
       "      <td>6.04</td>\n",
       "      <td>6.06</td>\n",
       "      <td>5.02</td>\n",
       "      <td>5.6</td>\n",
       "      <td>6.04</td>\n",
       "      <td>10.76</td>\n",
       "      <td>5.91</td>\n",
       "      <td>0.7</td>\n",
       "    </tr>\n",
       "    <tr>\n",
       "      <th>4387-1</th>\n",
       "      <td>6.3</td>\n",
       "      <td>5.65</td>\n",
       "      <td>6.04</td>\n",
       "      <td>5.6</td>\n",
       "      <td>6.04</td>\n",
       "      <td>5.88</td>\n",
       "      <td>5.65</td>\n",
       "      <td>10.76</td>\n",
       "      <td>6.3</td>\n",
       "      <td>6.04</td>\n",
       "      <td>...</td>\n",
       "      <td>5.6</td>\n",
       "      <td>5.65</td>\n",
       "      <td>6.04</td>\n",
       "      <td>6.06</td>\n",
       "      <td>5.02</td>\n",
       "      <td>5.6</td>\n",
       "      <td>6.04</td>\n",
       "      <td>10.76</td>\n",
       "      <td>5.91</td>\n",
       "      <td>0.7</td>\n",
       "    </tr>\n",
       "    <tr>\n",
       "      <th>4387-2</th>\n",
       "      <td>6.3</td>\n",
       "      <td>5.65</td>\n",
       "      <td>6.04</td>\n",
       "      <td>5.6</td>\n",
       "      <td>6.04</td>\n",
       "      <td>5.88</td>\n",
       "      <td>5.65</td>\n",
       "      <td>10.76</td>\n",
       "      <td>6.3</td>\n",
       "      <td>6.04</td>\n",
       "      <td>...</td>\n",
       "      <td>5.6</td>\n",
       "      <td>5.65</td>\n",
       "      <td>6.04</td>\n",
       "      <td>6.06</td>\n",
       "      <td>5.02</td>\n",
       "      <td>5.6</td>\n",
       "      <td>6.04</td>\n",
       "      <td>10.76</td>\n",
       "      <td>5.91</td>\n",
       "      <td>0.7</td>\n",
       "    </tr>\n",
       "  </tbody>\n",
       "</table>\n",
       "<p>5 rows × 100 columns</p>\n",
       "</div>"
      ],
      "text/plain": [
       "          0     1     2    3     4     5     6      7    8     9 ...    90  \\\n",
       "2996-0  6.3  5.65  6.04  5.6  6.04  5.88  5.65  10.76  6.3  6.04 ...   5.6   \n",
       "2996-1  6.3  5.65  6.04  5.6  6.04  5.88  5.65  10.76  6.3  6.04 ...   5.6   \n",
       "4387-0  6.3  5.65  6.04  5.6  6.04  5.88  5.65  10.76  6.3  6.04 ...   5.6   \n",
       "4387-1  6.3  5.65  6.04  5.6  6.04  5.88  5.65  10.76  6.3  6.04 ...   5.6   \n",
       "4387-2  6.3  5.65  6.04  5.6  6.04  5.88  5.65  10.76  6.3  6.04 ...   5.6   \n",
       "\n",
       "          91    92    93    94   95    96     97    98  FPV  \n",
       "2996-0  5.65  6.04  6.06  5.02  5.6  6.04  10.76  5.91  2.5  \n",
       "2996-1  5.65  6.04  6.06  5.02  5.6  6.04  10.76  5.91  2.5  \n",
       "4387-0  5.65  6.04  6.06  5.02  5.6  6.04  10.76  5.91  0.7  \n",
       "4387-1  5.65  6.04  6.06  5.02  5.6  6.04  10.76  5.91  0.7  \n",
       "4387-2  5.65  6.04  6.06  5.02  5.6  6.04  10.76  5.91  0.7  \n",
       "\n",
       "[5 rows x 100 columns]"
      ]
     },
     "execution_count": 42,
     "metadata": {},
     "output_type": "execute_result"
    }
   ],
   "source": [
    "# Join the sequence data together with that of one drug of interest.\n",
    "drug_name = 'FPV'\n",
    "\n",
    "data_matrix = seqdf.join(dr_vals[drug_name]).dropna()  # we have to drop NaN values because scikit-learn algorithms are not designed to accept them.\n",
    "data_matrix.head()"
   ]
  },
  {
   "cell_type": "markdown",
   "metadata": {},
   "source": [
    "## Exercise\n",
    "\n",
    "Practice what you've learned! Split the data into features, response variable, and then do a train/test split."
   ]
  },
  {
   "cell_type": "code",
   "execution_count": 43,
   "metadata": {
    "collapsed": false
   },
   "outputs": [],
   "source": [
    "# Answer\n",
    "\n",
    "X = data_matrix[[i for i in range(99)]]\n",
    "Y = data_matrix[drug_name]\n",
    "\n",
    "X_train, X_test, Y_train, Y_test = train_test_split(X, Y, test_size=0.2)"
   ]
  },
  {
   "cell_type": "markdown",
   "metadata": {},
   "source": [
    "## Exercise\n",
    "\n",
    "Now, let's train the Random Forest Regressor on the data."
   ]
  },
  {
   "cell_type": "code",
   "execution_count": 44,
   "metadata": {
    "collapsed": false
   },
   "outputs": [],
   "source": [
    "# Answer\n",
    "\n",
    "mdl1 = RandomForestRegressor()\n",
    "mdl1.fit(X_train, Y_train)\n",
    "preds1 = mdl1.predict(X_test)"
   ]
  },
  {
   "cell_type": "markdown",
   "metadata": {},
   "source": [
    "Let's now examine what the preds look like"
   ]
  },
  {
   "cell_type": "code",
   "execution_count": 49,
   "metadata": {
    "collapsed": false
   },
   "outputs": [
    {
     "data": {
      "text/plain": [
       "<matplotlib.collections.PathCollection at 0x11e6090f0>"
      ]
     },
     "execution_count": 49,
     "metadata": {},
     "output_type": "execute_result"
    },
    {
     "data": {
      "image/png": "[encoded data removed]",
      "text/plain": [
       "<matplotlib.figure.Figure at 0x1203d8908>"
      ]
     },
     "metadata": {},
     "output_type": "display_data"
    }
   ],
   "source": [
    "plt.scatter(preds1, Y_test)"
   ]
  },
  {
   "cell_type": "markdown",
   "metadata": {},
   "source": [
    "## Evaluating the Model\n",
    "\n",
    "Just as with classification tasks, we also need metrics to help evaluate how good a trained model is, given the input features."
   ]
  },
  {
   "cell_type": "markdown",
   "metadata": {},
   "source": [
    "## Exercise\n",
    "\n",
    "Look through the [`sklearn.metrics`][1] module. What might be a suitable metric to use?\n",
    "\n",
    "Justify the use of two of them, and write the code that computes the evaluation metric.\n",
    "\n",
    "[1]: http://scikit-learn.org/stable/modules/classes.html#sklearn-metrics-metrics"
   ]
  },
  {
   "cell_type": "code",
   "execution_count": 51,
   "metadata": {
    "collapsed": false
   },
   "outputs": [
    {
     "data": {
      "text/plain": [
       "0.8811193971461645"
      ]
     },
     "execution_count": 51,
     "metadata": {},
     "output_type": "execute_result"
    }
   ],
   "source": [
    "# Metric 1: correlation coefficient.\n",
    "r2_score(preds1, Y_test)  # this is provided in the sklearn.metrics module."
   ]
  },
  {
   "cell_type": "code",
   "execution_count": 53,
   "metadata": {
    "collapsed": false
   },
   "outputs": [
    {
     "data": {
      "text/plain": [
       "349.48292381717306"
      ]
     },
     "execution_count": 53,
     "metadata": {},
     "output_type": "execute_result"
    }
   ],
   "source": [
    "# Metric 2: mean squared error\n",
    "mean_squared_error(preds1, Y_test)"
   ]
  },
  {
   "cell_type": "markdown",
   "metadata": {},
   "source": [
    "### Discussion\n",
    "\n",
    "What does the distribution of values look like? Where is its skew? How could we tell?\n",
    "\n",
    "What would be a better way of transforming the data prior to doing ML?"
   ]
  },
  {
   "cell_type": "markdown",
   "metadata": {},
   "source": [
    "## Live-Coding\n",
    "\n",
    "Let's try log10-transforming the values to be predicted. "
   ]
  },
  {
   "cell_type": "code",
   "execution_count": 57,
   "metadata": {
    "collapsed": false
   },
   "outputs": [],
   "source": [
    "X = data_matrix[[i for i in range(99)]]\n",
    "Y = data_matrix[drug_name].apply(lambda x: np.log10(x))"
   ]
  },
  {
   "cell_type": "code",
   "execution_count": 60,
   "metadata": {
    "collapsed": false
   },
   "outputs": [
    {
     "data": {
      "text/plain": [
       "0.0366541157391038"
      ]
     },
     "execution_count": 60,
     "metadata": {},
     "output_type": "execute_result"
    }
   ],
   "source": [
    "X_train, X_test, Y_train, Y_test = train_test_split(X, Y)\n",
    "\n",
    "mdl = RandomForestRegressor()\n",
    "mdl.fit(X_train, Y_train)\n",
    "preds = mdl.predict(X_test)\n",
    "\n",
    "mean_squared_error(preds, Y_test)"
   ]
  },
  {
   "cell_type": "markdown",
   "metadata": {},
   "source": [
    "Note: the MSE goes down because of the `log10` transform. However, that's exactly what we would have expected by definition."
   ]
  },
  {
   "cell_type": "code",
   "execution_count": 61,
   "metadata": {
    "collapsed": false
   },
   "outputs": [
    {
     "data": {
      "text/plain": [
       "<matplotlib.collections.PathCollection at 0x11e3d4400>"
      ]
     },
     "execution_count": 61,
     "metadata": {},
     "output_type": "execute_result"
    },
    {
     "data": {
      "image/png": "[encoded data removed]",
      "text/plain": [
       "<matplotlib.figure.Figure at 0x11e44f320>"
      ]
     },
     "metadata": {},
     "output_type": "display_data"
    }
   ],
   "source": [
    "plt.scatter(preds, Y_test)"
   ]
  },
  {
   "cell_type": "code",
   "execution_count": 62,
   "metadata": {
    "collapsed": false
   },
   "outputs": [
    {
     "data": {
      "text/plain": [
       "0.94291909136728558"
      ]
     },
     "execution_count": 62,
     "metadata": {},
     "output_type": "execute_result"
    }
   ],
   "source": [
    "r2_score(preds, Y_test) "
   ]
  },
  {
   "cell_type": "markdown",
   "metadata": {},
   "source": [
    "## Challenge Exercise\n",
    "\n",
    "Can you compare the following algorithms to see which one performs best?\n",
    "\n",
    "- `RandomForestRegressor`\n",
    "- `GradientBoostingRegressor`\n",
    "- `AdaBoostRegressor`\n",
    "- `ExtraTreesRegressor`"
   ]
  },
  {
   "cell_type": "code",
   "execution_count": null,
   "metadata": {
    "collapsed": true
   },
   "outputs": [],
   "source": []
  },
  {
   "cell_type": "markdown",
   "metadata": {},
   "source": [
    "## Live Coding: Statistical Practices\n",
    "\n",
    "Feel free to type along!"
   ]
  },
  {
   "cell_type": "code",
   "execution_count": 81,
   "metadata": {
    "collapsed": false
   },
   "outputs": [
    {
     "name": "stdout",
     "output_type": "stream",
     "text": [
      "ex ExtraTreesRegressor(bootstrap=False, criterion='mse', max_depth=None,\n",
      "          max_features='auto', max_leaf_nodes=None, min_samples_leaf=1,\n",
      "          min_samples_split=2, min_weight_fraction_leaf=0.0,\n",
      "          n_estimators=10, n_jobs=1, oob_score=False, random_state=None,\n",
      "          verbose=0, warm_start=False)\n",
      "rf RandomForestRegressor(bootstrap=True, criterion='mse', max_depth=None,\n",
      "           max_features='auto', max_leaf_nodes=None, min_samples_leaf=1,\n",
      "           min_samples_split=2, min_weight_fraction_leaf=0.0,\n",
      "           n_estimators=10, n_jobs=1, oob_score=False, random_state=None,\n",
      "           verbose=0, warm_start=False)\n",
      "gb GradientBoostingRegressor(alpha=0.9, init=None, learning_rate=0.1, loss='ls',\n",
      "             max_depth=3, max_features=None, max_leaf_nodes=None,\n",
      "             min_samples_leaf=1, min_samples_split=2,\n",
      "             min_weight_fraction_leaf=0.0, n_estimators=100,\n",
      "             random_state=None, subsample=1.0, verbose=0, warm_start=False)\n",
      "ad AdaBoostRegressor(base_estimator=None, learning_rate=1.0, loss='linear',\n",
      "         n_estimators=50, random_state=None)\n"
     ]
    }
   ],
   "source": [
    "cv = ShuffleSplit(n=len(X), n_iter=10, test_size=0.3)\n",
    "\n",
    "models = dict()\n",
    "models['rf'] = RandomForestRegressor()\n",
    "models['gb'] = GradientBoostingRegressor()\n",
    "models['ad'] = AdaBoostRegressor()\n",
    "models['ex'] = ExtraTreesRegressor()\n",
    "\n",
    "scores = dict()\n",
    "\n",
    "for abbr, model in models.items():\n",
    "    print(abbr, model)\n",
    "    score = cross_val_score(model, X, Y, cv=cv, scoring='mean_squared_error')\n",
    "    scores[abbr] = -score"
   ]
  },
  {
   "cell_type": "code",
   "execution_count": 104,
   "metadata": {
    "collapsed": false
   },
   "outputs": [
    {
     "name": "stderr",
     "output_type": "stream",
     "text": [
      "/Users/ericmjl/anaconda/lib/python3.4/site-packages/matplotlib/__init__.py:892: UserWarning: axes.color_cycle is deprecated and replaced with axes.prop_cycle; please use the latter.\n",
      "  warnings.warn(self.msg_depr % (key, alt_key))\n"
     ]
    },
    {
     "data": {
      "text/plain": [
       "<matplotlib.axes._subplots.AxesSubplot at 0x1205cb358>"
      ]
     },
     "execution_count": 104,
     "metadata": {},
     "output_type": "execute_result"
    },
    {
     "data": {
      "image/png": "[encoded data removed]",
      "text/plain": [
       "<matplotlib.figure.Figure at 0x1205cb518>"
      ]
     },
     "metadata": {},
     "output_type": "display_data"
    }
   ],
   "source": [
    "score_summary = pd.DataFrame(scores)\n",
    "score_summary = pd.DataFrame(score_summary.unstack()).reset_index()\n",
    "# sns.violinplot(x=)\n",
    "score_summary.columns = ['model', 'idx', 'error']\n",
    "sns.violinplot(x='model', y='error', data=score_summary)"
   ]
  },
  {
   "cell_type": "markdown",
   "metadata": {},
   "source": [
    "Statistical good practices:\n",
    "\n",
    "1. Train/test split\n",
    "2. Shuffle your data, to break up any inadvertant structure in the dataset.\n",
    "3. Compare different models in a systematic way."
   ]
  },
  {
   "cell_type": "code",
   "execution_count": null,
   "metadata": {
    "collapsed": true
   },
   "outputs": [],
   "source": []
  }
 ],
 "metadata": {
  "kernelspec": {
   "display_name": "Python 3",
   "language": "python",
   "name": "python3"
  },
  "language_info": {
   "codemirror_mode": {
    "name": "ipython",
    "version": 3
   },
   "file_extension": ".py",
   "mimetype": "text/x-python",
   "name": "python",
   "nbconvert_exporter": "python",
   "pygments_lexer": "ipython3",
   "version": "3.4.4"
  }
 },
 "nbformat": 4,
 "nbformat_minor": 0
}
