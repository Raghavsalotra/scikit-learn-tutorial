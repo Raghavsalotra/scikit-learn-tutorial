{
 "cells": [
  {
   "cell_type": "markdown",
   "metadata": {},
   "source": [
    "# Machine Learning Problems\n",
    "\n",
    "- What are the 3 types of machine learning problems that we went through today?\n",
    "- How do we evaluate the different types of \n",
    "- What are some statistical practices that may help in your ML analysis?"
   ]
  },
  {
   "cell_type": "markdown",
   "metadata": {},
   "source": [
    "# Coding Patterns\n",
    "\n",
    "\n",
    "**Your Data**\n",
    "\n",
    "The scikit-learn API is a well-designed, consistent API. The inputs to the different models are, almost invariably:\n",
    "\n",
    "- An `X` matrix, which is `n_samples` (rows) by `n_features` (columns)\n",
    "- A `Y` matrix, which is `n_samples` (rows) by `m_outputs` (columns)\n",
    "\n",
    "---\n",
    "\n",
    "**Model Training/Fitting and Predictions**\n",
    "\n",
    "With the ML models implemented in `scikit-learn`, you usually would be doing:\n",
    "\n",
    "    mdl = ModelNameHere(params_here)\n",
    "    mdl.fit(X, Y)\n",
    "    preds = mdl.predict(new_data)\n",
    "\n",
    "---\n",
    "\n",
    "**Cross-Validation**\n",
    "\n",
    "Cross-validation is always a good idea. Split your data into training and testing sets. Train on training set, test on testing set.\n",
    "\n",
    "\n",
    "    X_train, X_test, Y_train, Y_test = train_test_split(X, Y, test_size=0.3)\n",
    "    mdl.fit(X_train, Y_train)\n",
    "    preds = mdl.fit(X_test)\n",
    "\n",
    "\n",
    "Finally, evaluate your model based on testing set performance.\n",
    "\n",
    "    your_metric_here(preds, Y_test)"
   ]
  },
  {
   "cell_type": "markdown",
   "metadata": {},
   "source": [
    "# Other Resources\n",
    "\n",
    "**`scikit-learn`'s pages**\n",
    "- `scikit-learn` [flowchart](http://scikit-learn.org/stable/tutorial/machine_learning_map/)\n",
    "- `scikit-learn`'s own [resources page](http://scikit-learn.org/stable/presentations.html)\n",
    "\n",
    "**famous people/heroes**\n",
    "- [Jake Vanderplas](https://jakevdp.github.io)\n",
    "- [Allen Downey](http://www.allendowney.com/wp/)\n"
   ]
  },
  {
   "cell_type": "markdown",
   "metadata": {},
   "source": [
    "# Feedback is much appreciated!\n",
    "\n",
    "http://goo.gl/forms/n6x3gaaA57\n",
    "\n",
    "Please stick around until after the draw for a $5 Starbucks card is announced!"
   ]
  },
  {
   "cell_type": "code",
   "execution_count": 65,
   "metadata": {
    "collapsed": true
   },
   "outputs": [],
   "source": [
    "from random import randint"
   ]
  },
  {
   "cell_type": "code",
   "execution_count": 66,
   "metadata": {
    "collapsed": false
   },
   "outputs": [
    {
     "data": {
      "text/plain": [
       "17"
      ]
     },
     "execution_count": 66,
     "metadata": {},
     "output_type": "execute_result"
    }
   ],
   "source": [
    "n_entries = 30\n",
    "randint(1, n_entries+1)"
   ]
  },
  {
   "cell_type": "code",
   "execution_count": null,
   "metadata": {
    "collapsed": true
   },
   "outputs": [],
   "source": []
  }
 ],
 "metadata": {
  "kernelspec": {
   "display_name": "Python 3",
   "language": "python",
   "name": "python3"
  },
  "language_info": {
   "codemirror_mode": {
    "name": "ipython",
    "version": 3
   },
   "file_extension": ".py",
   "mimetype": "text/x-python",
   "name": "python",
   "nbconvert_exporter": "python",
   "pygments_lexer": "ipython3",
   "version": "3.4.4"
  }
 },
 "nbformat": 4,
 "nbformat_minor": 0
}
